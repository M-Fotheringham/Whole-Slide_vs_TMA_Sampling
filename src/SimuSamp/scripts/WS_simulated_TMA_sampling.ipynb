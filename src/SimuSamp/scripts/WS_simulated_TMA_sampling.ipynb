{
 "cells": [
  {
   "cell_type": "code",
   "execution_count": null,
   "metadata": {},
   "outputs": [],
   "source": [
    "import geopandas as gpd\n",
    "from scipy.spatial import KDTree\n",
    "import numpy as np\n",
    "from SimuSamp.functions.load.SpatDat import SpatDat\n",
    "import pandas as pd\n",
    "from SimuSamp.functions.compute.n_core_sampler import sample_n_cores"
   ]
  },
  {
   "cell_type": "code",
   "execution_count": null,
   "metadata": {},
   "outputs": [],
   "source": [
    "parent_filepath = \"../../../../Simulated WS Sampling/block_data\"\n",
    "\n",
    "sampleids = [\"01_F\", \"01_G\", \"02_G\", \"02_H\", \"03_B\", \"03_H\", \"04_I\", \"04_N\", \"05_G\", \"05_I\", \"06_H\", \"07_K\", \"08_J\", \"09_E\", \"10_B\", \"11_E\", \"11_F\", \"12_M\", \"13_G\", \"14_I\", \"15_G\", \"16_B\", \"17_I\", \"18_E\", \"19_F\", \"21_I\", \"22_N\", \"23_B\", \"24_I\", \"25_M\", \"26_I\", \"27_H\", \"28_FSC\", \"29_L\", \"30_D\"]\n",
    "\n",
    "microns_per_pixel=0.22715\n",
    "mm2_per_pixels2 = (microns_per_pixel / 1000) ** 2"
   ]
  },
  {
   "cell_type": "markdown",
   "metadata": {},
   "source": [
    "# Compute Simulated Cores from Whole-Slide Data"
   ]
  },
  {
   "cell_type": "code",
   "execution_count": null,
   "metadata": {},
   "outputs": [],
   "source": [
    "for sampleid in sampleids:\n",
    "    # Load sample data\n",
    "    spatdat = SpatDat(sampleid, parent_filepath)\n",
    "\n",
    "    results_list = []\n",
    "    for region in [\"tumour\", \"IM\"]:\n",
    "        # Perform simulated sampling\n",
    "        result = sample_n_cores(spatdat, region=region)\n",
    "\n",
    "        results_list.append(result)\n",
    "\n",
    "    results = pd.concat(results_list)\n",
    "\n",
    "    # Save results per sampleid\n",
    "    results.to_excel(f\"Data/{sampleid}_sim_results.xlsx\", index=False)\n",
    "\n",
    "    del(results_list, results)"
   ]
  },
  {
   "cell_type": "code",
   "execution_count": null,
   "metadata": {},
   "outputs": [],
   "source": [
    "combined_df = pd.concat([pd.read_excel(f\"../../../../Data/Simulated/{sampleid}_sim_results.xlsx\") for sampleid in sampleids])\n",
    "\n",
    "combined_df.to_excel(\"../../../../Data/Simulated/simulation_results.xlsx\")"
   ]
  },
  {
   "cell_type": "markdown",
   "metadata": {},
   "source": [
    "# Explore Simulated Data for Single Whole-Slide Specimen"
   ]
  },
  {
   "cell_type": "code",
   "execution_count": null,
   "metadata": {},
   "outputs": [],
   "source": [
    "combined_df = pd.read_excel(\"../../../../Data/Simulated/simulation_results.xlsx\")"
   ]
  },
  {
   "cell_type": "code",
   "execution_count": 16,
   "metadata": {},
   "outputs": [],
   "source": [
    "spatdat = SpatDat(\"01_F\", parent_filepath)"
   ]
  },
  {
   "cell_type": "code",
   "execution_count": null,
   "metadata": {},
   "outputs": [],
   "source": [
    "# Get total cell df\n",
    "cells = spatdat.subset_cells(\"extended_partition\")\n",
    "\n",
    "# Drop unnecessary columns\n",
    "cells = cells.drop(columns=[\"Analysis Region\", \"CD8\", \"layer\"])\n",
    "\n",
    "# Get total tissue area\n",
    "area = spatdat.subset_annotation(\"extended_partition\")\n",
    "area = gpd.GeoDataFrame(geometry=[area])"
   ]
  },
  {
   "cell_type": "markdown",
   "metadata": {},
   "source": [
    "## E.g. Estimate Mean Nearest-Neighbour Distance in Small (0.3-radius) Cores"
   ]
  },
  {
   "cell_type": "code",
   "execution_count": 27,
   "metadata": {},
   "outputs": [],
   "source": [
    "small_cores = combined_df[(combined_df[\"sampleid\"] == \"01_F\") & (combined_df[\"n_sampled\"] == 10) & (combined_df[\"core_radius\"] == 0.3)].iloc[[0], :]"
   ]
  },
  {
   "cell_type": "code",
   "execution_count": 29,
   "metadata": {},
   "outputs": [],
   "source": [
    "from shapely.wkt import loads"
   ]
  },
  {
   "cell_type": "code",
   "execution_count": null,
   "metadata": {},
   "outputs": [],
   "source": [
    "cores = loads(small_cores[\"cores\"].iloc[0])\n",
    "cores = gpd.GeoDataFrame(geometry=[x for x in cores.geoms])\n",
    "\n",
    "inter_cells = cells.sjoin(cores, predicate=\"within\")\n",
    "\n",
    "core_cells_0 = inter_cells[inter_cells[\"index_right\"] == 2].reset_index(drop=True)\n",
    "\n",
    "core_0 = cores.iloc[[2], :]"
   ]
  },
  {
   "cell_type": "code",
   "execution_count": 68,
   "metadata": {},
   "outputs": [],
   "source": [
    "distance = 5000 * microns_per_pixel"
   ]
  },
  {
   "cell_type": "code",
   "execution_count": 74,
   "metadata": {},
   "outputs": [],
   "source": [
    "def edge_correction_weight(point, core, distance):\n",
    "    # Get fraction of the buffer within the analysis area\n",
    "    circle = point.buffer(distance)\n",
    "    intersected_area = circle.intersection(core).area\n",
    "\n",
    "    weight = circle.area / intersected_area\n",
    "    \n",
    "    return weight"
   ]
  },
  {
   "cell_type": "code",
   "execution_count": 121,
   "metadata": {},
   "outputs": [],
   "source": [
    "def compute_nn_per_point(cell_gdf, core, distance=1500 / microns_per_pixel):\n",
    "\n",
    "    nn_values = []\n",
    "\n",
    "    tree = KDTree([[p.x, p.y] for p in cell_gdf.geometry])\n",
    "\n",
    "    for point in cell_gdf.geometry:\n",
    "        dists, _ = tree.query([point.x, point.y], k=len(cell_gdf), distance_upper_bound=distance)\n",
    "        # Exclude self-distance\n",
    "        dists = dists[np.isfinite(dists) & (dists > 0)]\n",
    "        \n",
    "        count = np.sum(dists <= distance)\n",
    "\n",
    "        # Apply edge correction\n",
    "        weight = edge_correction_weight(point, core, distance)\n",
    "\n",
    "        nn_values.append(count / weight)\n",
    "    \n",
    "    mean_nn = np.mean(nn_values)\n",
    "\n",
    "    return mean_nn"
   ]
  },
  {
   "cell_type": "code",
   "execution_count": 130,
   "metadata": {},
   "outputs": [],
   "source": [
    "nn_res = compute_nn_per_point(core_cells_0, core_0)"
   ]
  },
  {
   "cell_type": "code",
   "execution_count": 131,
   "metadata": {},
   "outputs": [
    {
     "data": {
      "text/plain": [
       "8.919999999999998"
      ]
     },
     "execution_count": 131,
     "metadata": {},
     "output_type": "execute_result"
    }
   ],
   "source": [
    "nn_res"
   ]
  }
 ],
 "metadata": {
  "kernelspec": {
   "display_name": "Python 3",
   "language": "python",
   "name": "python3"
  },
  "language_info": {
   "codemirror_mode": {
    "name": "ipython",
    "version": 3
   },
   "file_extension": ".py",
   "mimetype": "text/x-python",
   "name": "python",
   "nbconvert_exporter": "python",
   "pygments_lexer": "ipython3",
   "version": "3.11.9"
  }
 },
 "nbformat": 4,
 "nbformat_minor": 2
}
