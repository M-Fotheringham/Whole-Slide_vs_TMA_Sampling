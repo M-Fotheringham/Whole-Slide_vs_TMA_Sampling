{
 "cells": [
  {
   "cell_type": "code",
   "execution_count": 1,
   "metadata": {},
   "outputs": [],
   "source": [
    "import os\n",
    "from shapely.geometry import Polygon, Point\n",
    "import pointpats\n",
    "import geopandas as gpd\n",
    "import matplotlib.pyplot as plt\n",
    "from shapely.strtree import STRtree\n",
    "import numpy as np\n",
    "from SimuSamp.new_funcs.load.SpatDat import SpatDat\n",
    "import pandas as pd\n",
    "from SimuSamp.new_funcs.compute.n_core_sampler import sample_n_cores"
   ]
  },
  {
   "cell_type": "code",
   "execution_count": 2,
   "metadata": {},
   "outputs": [],
   "source": [
    "parent_filepath = \"../../../../Simulated WS Sampling/block_data\"\n",
    "sampleids = [\"01_F\", \"01_G\", \"02_G\", \"02_H\", \"03_B\", \"03_H\", \"04_I\", \"04_N\", \"05_G\", \"05_I\", \"06_H\", \"07_K\", \"08_J\", \"09_E\", \"10_B\", \"11_E\", \"11_F\", \"12_M\", \"13_G\", \"14_I\", \"15_G\", \"16_B\", \"17_I\", \"18_E\", \"19_F\", \"21_I\", \"22_N\", \"23_B\", \"24_I\", \"25_M\", \"26_I\", \"27_H\", \"28_FSC\", \"29_L\", \"30_D\"]\n",
    "\n",
    "microns_per_pixel=0.22715\n",
    "mm2_per_pixels2 = (microns_per_pixel / 1000) ** 2"
   ]
  },
  {
   "cell_type": "code",
   "execution_count": 1,
   "metadata": {},
   "outputs": [],
   "source": [
    "# for sampleid in sampleids:\n",
    "#     # Load sample data\n",
    "#     spatdat = SpatDat(sampleid, parent_filepath)\n",
    "\n",
    "#     results_list = []\n",
    "#     for region in [\"tumour\", \"IM\"]:\n",
    "#         # Perform simulated sampling\n",
    "#         result = sample_n_cores(spatdat, region=region)\n",
    "\n",
    "#         results_list.append(result)\n",
    "\n",
    "#     results = pd.concat(results_list)\n",
    "\n",
    "#     # Save results per sampleid\n",
    "#     results.to_excel(f\"Data/{sampleid}_sim_results.xlsx\", index=False)\n",
    "\n",
    "#     del(results_list, results)"
   ]
  },
  {
   "cell_type": "code",
   "execution_count": null,
   "metadata": {},
   "outputs": [],
   "source": [
    "combined_df = pd.concat([pd.read_excel(f\"Data/{sampleid}_sim_results.xlsx\") for sampleid in sampleids])\n",
    "\n",
    "combined_df.to_excel(\"simulation_results.xlsx\")"
   ]
  }
 ],
 "metadata": {
  "kernelspec": {
   "display_name": "Python 3",
   "language": "python",
   "name": "python3"
  },
  "language_info": {
   "codemirror_mode": {
    "name": "ipython",
    "version": 3
   },
   "file_extension": ".py",
   "mimetype": "text/x-python",
   "name": "python",
   "nbconvert_exporter": "python",
   "pygments_lexer": "ipython3",
   "version": "3.11.7"
  }
 },
 "nbformat": 4,
 "nbformat_minor": 2
}
