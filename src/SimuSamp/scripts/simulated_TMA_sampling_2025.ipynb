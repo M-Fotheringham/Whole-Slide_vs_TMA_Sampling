{
 "cells": [
  {
   "cell_type": "code",
   "execution_count": 1,
   "metadata": {},
   "outputs": [],
   "source": [
    "import os\n",
    "from shapely.geometry import Polygon, Point\n",
    "import pointpats\n",
    "import geopandas as gpd\n",
    "import matplotlib.pyplot as plt\n",
    "from shapely.strtree import STRtree\n",
    "import numpy as np\n",
    "from SimuSamp.new_funcs.load.SpatDat import SpatDat\n",
    "import pandas as pd\n",
    "from SimuSamp.new_funcs.compute.n_core_sampler import sample_n_cores"
   ]
  },
  {
   "cell_type": "code",
   "execution_count": 2,
   "metadata": {},
   "outputs": [],
   "source": [
    "parent_filepath = \"../../../../Simulated WS Sampling/block_data\"\n",
    "sampleids = [\"01_F\", \"01_G\", \"02_G\", \"02_H\", \"03_B\", \"03_H\", \"04_I\", \"04_N\", \"05_G\", \"05_I\", \"06_H\", \"07_K\", \"08_J\", \"09_E\", \"10_B\", \"11_E\", \"11_F\", \"12_M\", \"13_G\", \"14_I\", \"15_G\", \"16_B\", \"17_I\", \"18_E\", \"19_F\", \"21_I\", \"22_N\", \"23_B\", \"24_I\", \"25_M\", \"26_I\", \"27_H\", \"28_FSC\", \"29_L\", \"30_D\"]\n",
    "\n",
    "microns_per_pixel=0.22715\n",
    "mm2_per_pixels2 = (microns_per_pixel / 1000) ** 2"
   ]
  },
  {
   "cell_type": "code",
   "execution_count": null,
   "metadata": {},
   "outputs": [
    {
     "ename": "KeyboardInterrupt",
     "evalue": "",
     "output_type": "error",
     "traceback": [
      "\u001b[1;31m---------------------------------------------------------------------------\u001b[0m",
      "\u001b[1;31mKeyboardInterrupt\u001b[0m                         Traceback (most recent call last)",
      "Cell \u001b[1;32mIn[3], line 8\u001b[0m\n\u001b[0;32m      5\u001b[0m results_list \u001b[38;5;241m=\u001b[39m []\n\u001b[0;32m      6\u001b[0m \u001b[38;5;28;01mfor\u001b[39;00m region \u001b[38;5;129;01min\u001b[39;00m [\u001b[38;5;124m\"\u001b[39m\u001b[38;5;124mtumour\u001b[39m\u001b[38;5;124m\"\u001b[39m, \u001b[38;5;124m\"\u001b[39m\u001b[38;5;124mIM\u001b[39m\u001b[38;5;124m\"\u001b[39m]:\n\u001b[0;32m      7\u001b[0m     \u001b[38;5;66;03m# Perform simulated sampling\u001b[39;00m\n\u001b[1;32m----> 8\u001b[0m     result \u001b[38;5;241m=\u001b[39m \u001b[43msample_n_cores\u001b[49m\u001b[43m(\u001b[49m\u001b[43mspatdat\u001b[49m\u001b[43m,\u001b[49m\u001b[43m \u001b[49m\u001b[43mregion\u001b[49m\u001b[38;5;241;43m=\u001b[39;49m\u001b[43mregion\u001b[49m\u001b[43m)\u001b[49m\n\u001b[0;32m     10\u001b[0m     results_list\u001b[38;5;241m.\u001b[39mappend(result)\n\u001b[0;32m     12\u001b[0m results \u001b[38;5;241m=\u001b[39m pd\u001b[38;5;241m.\u001b[39mconcat(results_list)\n",
      "File \u001b[1;32m~\\OneDrive - Queen's University\\Documents\\Projects\\TMA_WholeSlide\\SimuSamp\\src\\SimuSamp\\new_funcs\\compute\\n_core_sampler.py:68\u001b[0m, in \u001b[0;36msample_n_cores\u001b[1;34m(spatdat, region, core_radius, n_core_list, iterations, microns_per_pixel)\u001b[0m\n\u001b[0;32m     65\u001b[0m \u001b[38;5;28;01mfor\u001b[39;00m n_cores \u001b[38;5;129;01min\u001b[39;00m n_core_list:\n\u001b[0;32m     66\u001b[0m     \u001b[38;5;28;01mfor\u001b[39;00m i \u001b[38;5;129;01min\u001b[39;00m \u001b[38;5;28mrange\u001b[39m(iterations):\n\u001b[1;32m---> 68\u001b[0m         filtered_points \u001b[38;5;241m=\u001b[39m \u001b[43mcore_sample\u001b[49m\u001b[43m(\u001b[49m\n\u001b[0;32m     69\u001b[0m \u001b[43m            \u001b[49m\u001b[43mrandom_points\u001b[49m\u001b[43m,\u001b[49m\u001b[43m \u001b[49m\u001b[43mradius_pixels\u001b[49m\u001b[43m,\u001b[49m\u001b[43m \u001b[49m\u001b[43mregion\u001b[49m\u001b[43m,\u001b[49m\u001b[43m \u001b[49m\u001b[43mtum\u001b[49m\u001b[43m,\u001b[49m\u001b[43m \u001b[49m\u001b[43mouter_im\u001b[49m\n\u001b[0;32m     70\u001b[0m \u001b[43m        \u001b[49m\u001b[43m)\u001b[49m\n\u001b[0;32m     72\u001b[0m         \u001b[38;5;66;03m# Calculate density, spatial metrics per core =================\u001b[39;00m\n\u001b[0;32m     73\u001b[0m         filtered_cores \u001b[38;5;241m=\u001b[39m filtered_points\u001b[38;5;241m.\u001b[39mbuffer(radius_pixels)\n",
      "File \u001b[1;32m~\\OneDrive - Queen's University\\Documents\\Projects\\TMA_WholeSlide\\SimuSamp\\src\\SimuSamp\\new_funcs\\compute\\core_sample.py:36\u001b[0m, in \u001b[0;36mcore_sample\u001b[1;34m(random_points, radius, region, tum, outer_im)\u001b[0m\n\u001b[0;32m     33\u001b[0m         \u001b[38;5;28;01mcontinue\u001b[39;00m\n\u001b[0;32m     35\u001b[0m \u001b[38;5;28;01mif\u001b[39;00m region \u001b[38;5;241m==\u001b[39m \u001b[38;5;124m\"\u001b[39m\u001b[38;5;124mIM\u001b[39m\u001b[38;5;124m\"\u001b[39m:\n\u001b[1;32m---> 36\u001b[0m     im_intersect \u001b[38;5;241m=\u001b[39m \u001b[43mcore\u001b[49m\u001b[38;5;241;43m.\u001b[39;49m\u001b[43mintersection\u001b[49m\u001b[43m(\u001b[49m\u001b[43mouter_im\u001b[49m\u001b[43m)\u001b[49m\n\u001b[0;32m     37\u001b[0m     im_prop \u001b[38;5;241m=\u001b[39m im_intersect\u001b[38;5;241m.\u001b[39marea \u001b[38;5;241m/\u001b[39m core_max_area\n\u001b[0;32m     38\u001b[0m     tum_intersect \u001b[38;5;241m=\u001b[39m core\u001b[38;5;241m.\u001b[39mintersection(tum)\n",
      "File \u001b[1;32m~\\AppData\\Roaming\\Python\\Python311\\site-packages\\shapely\\geometry\\base.py:599\u001b[0m, in \u001b[0;36mBaseGeometry.intersection\u001b[1;34m(self, other, grid_size)\u001b[0m\n\u001b[0;32m    593\u001b[0m \u001b[38;5;28;01mdef\u001b[39;00m \u001b[38;5;21mintersection\u001b[39m(\u001b[38;5;28mself\u001b[39m, other, grid_size\u001b[38;5;241m=\u001b[39m\u001b[38;5;28;01mNone\u001b[39;00m):\n\u001b[0;32m    594\u001b[0m \u001b[38;5;250m    \u001b[39m\u001b[38;5;124;03m\"\"\"\u001b[39;00m\n\u001b[0;32m    595\u001b[0m \u001b[38;5;124;03m    Returns the intersection of the geometries.\u001b[39;00m\n\u001b[0;32m    596\u001b[0m \n\u001b[0;32m    597\u001b[0m \u001b[38;5;124;03m    Refer to `shapely.intersection` for full documentation.\u001b[39;00m\n\u001b[0;32m    598\u001b[0m \u001b[38;5;124;03m    \"\"\"\u001b[39;00m\n\u001b[1;32m--> 599\u001b[0m     \u001b[38;5;28;01mreturn\u001b[39;00m \u001b[43mshapely\u001b[49m\u001b[38;5;241;43m.\u001b[39;49m\u001b[43mintersection\u001b[49m\u001b[43m(\u001b[49m\u001b[38;5;28;43mself\u001b[39;49m\u001b[43m,\u001b[49m\u001b[43m \u001b[49m\u001b[43mother\u001b[49m\u001b[43m,\u001b[49m\u001b[43m \u001b[49m\u001b[43mgrid_size\u001b[49m\u001b[38;5;241;43m=\u001b[39;49m\u001b[43mgrid_size\u001b[49m\u001b[43m)\u001b[49m\n",
      "File \u001b[1;32m~\\AppData\\Roaming\\Python\\Python311\\site-packages\\shapely\\decorators.py:77\u001b[0m, in \u001b[0;36mmultithreading_enabled.<locals>.wrapped\u001b[1;34m(*args, **kwargs)\u001b[0m\n\u001b[0;32m     75\u001b[0m     \u001b[38;5;28;01mfor\u001b[39;00m arr \u001b[38;5;129;01min\u001b[39;00m array_args:\n\u001b[0;32m     76\u001b[0m         arr\u001b[38;5;241m.\u001b[39mflags\u001b[38;5;241m.\u001b[39mwriteable \u001b[38;5;241m=\u001b[39m \u001b[38;5;28;01mFalse\u001b[39;00m\n\u001b[1;32m---> 77\u001b[0m     \u001b[38;5;28;01mreturn\u001b[39;00m \u001b[43mfunc\u001b[49m\u001b[43m(\u001b[49m\u001b[38;5;241;43m*\u001b[39;49m\u001b[43margs\u001b[49m\u001b[43m,\u001b[49m\u001b[43m \u001b[49m\u001b[38;5;241;43m*\u001b[39;49m\u001b[38;5;241;43m*\u001b[39;49m\u001b[43mkwargs\u001b[49m\u001b[43m)\u001b[49m\n\u001b[0;32m     78\u001b[0m \u001b[38;5;28;01mfinally\u001b[39;00m:\n\u001b[0;32m     79\u001b[0m     \u001b[38;5;28;01mfor\u001b[39;00m arr, old_flag \u001b[38;5;129;01min\u001b[39;00m \u001b[38;5;28mzip\u001b[39m(array_args, old_flags):\n",
      "File \u001b[1;32m~\\AppData\\Roaming\\Python\\Python311\\site-packages\\shapely\\set_operations.py:131\u001b[0m, in \u001b[0;36mintersection\u001b[1;34m(a, b, grid_size, **kwargs)\u001b[0m\n\u001b[0;32m    127\u001b[0m         \u001b[38;5;28;01mraise\u001b[39;00m \u001b[38;5;167;01mValueError\u001b[39;00m(\u001b[38;5;124m\"\u001b[39m\u001b[38;5;124mgrid_size parameter only accepts scalar values\u001b[39m\u001b[38;5;124m\"\u001b[39m)\n\u001b[0;32m    129\u001b[0m     \u001b[38;5;28;01mreturn\u001b[39;00m lib\u001b[38;5;241m.\u001b[39mintersection_prec(a, b, grid_size, \u001b[38;5;241m*\u001b[39m\u001b[38;5;241m*\u001b[39mkwargs)\n\u001b[1;32m--> 131\u001b[0m \u001b[38;5;28;01mreturn\u001b[39;00m \u001b[43mlib\u001b[49m\u001b[38;5;241;43m.\u001b[39;49m\u001b[43mintersection\u001b[49m\u001b[43m(\u001b[49m\u001b[43ma\u001b[49m\u001b[43m,\u001b[49m\u001b[43m \u001b[49m\u001b[43mb\u001b[49m\u001b[43m,\u001b[49m\u001b[43m \u001b[49m\u001b[38;5;241;43m*\u001b[39;49m\u001b[38;5;241;43m*\u001b[39;49m\u001b[43mkwargs\u001b[49m\u001b[43m)\u001b[49m\n",
      "\u001b[1;31mKeyboardInterrupt\u001b[0m: "
     ]
    }
   ],
   "source": [
    "for sampleid in sampleids:\n",
    "    # Load sample data\n",
    "    spatdat = SpatDat(sampleid, parent_filepath)\n",
    "\n",
    "    results_list = []\n",
    "    for region in [\"tumour\", \"IM\"]:\n",
    "        # Perform simulated sampling\n",
    "        result = sample_n_cores(spatdat, region=region)\n",
    "\n",
    "        results_list.append(result)\n",
    "\n",
    "    results = pd.concat(results_list)\n",
    "\n",
    "    # Save results per sampleid\n",
    "    results.to_excel(f\"Data/{sampleid}_sim_results.xlsx\", index=False)\n",
    "\n",
    "    del(results_list, results)"
   ]
  },
  {
   "cell_type": "code",
   "execution_count": null,
   "metadata": {},
   "outputs": [],
   "source": [
    "combined_df = pd.concat([pd.read_excel(f\"Data/{sampleid}_sim_results.xlsx\") for sampleid in sampleids])\n",
    "\n",
    "combined_df.to_excel(\"simulation_results.xlsx\")"
   ]
  }
 ],
 "metadata": {
  "kernelspec": {
   "display_name": "Python 3",
   "language": "python",
   "name": "python3"
  },
  "language_info": {
   "codemirror_mode": {
    "name": "ipython",
    "version": 3
   },
   "file_extension": ".py",
   "mimetype": "text/x-python",
   "name": "python",
   "nbconvert_exporter": "python",
   "pygments_lexer": "ipython3",
   "version": "3.11.9"
  }
 },
 "nbformat": 4,
 "nbformat_minor": 2
}
