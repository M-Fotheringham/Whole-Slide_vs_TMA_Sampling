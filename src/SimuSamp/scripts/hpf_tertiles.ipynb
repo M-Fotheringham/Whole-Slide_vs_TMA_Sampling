{
 "cells": [
  {
   "cell_type": "code",
   "execution_count": null,
   "metadata": {},
   "outputs": [],
   "source": [
    "from SimuSamp.functions.load.SpatDat import SpatDat\n",
    "import geopandas as gpd\n",
    "import pandas as pd\n",
    "import matplotlib.pyplot as plt\n",
    "import numpy as np\n",
    "from scipy import stats\n",
    "from shapely.wkt import loads"
   ]
  },
  {
   "cell_type": "code",
   "execution_count": null,
   "metadata": {},
   "outputs": [],
   "source": [
    "# parent_filepath = \"C:/Users/Michael/Desktop/block_data\"\n",
    "parent_filepath = \"../../../../Simulated WS Sampling/block_data\"\n",
    "\n",
    "sampleids = [\"01_F\", \"01_G\", \"02_G\", \"02_H\", \"03_B\", \"03_H\", \"04_I\", \"04_N\", \"05_G\", \"05_I\", \"06_H\", \"07_K\", \"08_J\", \"09_E\", \"10_B\", \"11_E\", \"11_F\", \"12_M\", \"13_G\", \"14_I\", \"15_G\", \"16_B\", \"17_I\", \"18_E\", \"19_F\", \"21_I\", \"22_N\", \"23_B\", \"24_I\", \"25_M\", \"26_I\", \"27_H\", \"28_FSC\", \"29_L\", \"30_D\"]\n",
    "\n",
    "font_dict = {\"fontsize\": 12, \"fontweight\": \"bold\", \"fontname\": \"Arial\"}"
   ]
  },
  {
   "cell_type": "markdown",
   "metadata": {},
   "source": [
    "### Calculate HPFs for all samples"
   ]
  },
  {
   "cell_type": "code",
   "execution_count": 3,
   "metadata": {},
   "outputs": [],
   "source": [
    "hpfs_600 = []\n",
    "hpfs_1000 = []\n",
    "hpfs_2000 = []\n",
    "for sampleid in sampleids:\n",
    "    spatdat = SpatDat(sampleid=sampleid, parent_filepath=parent_filepath)\n",
    "    \n",
    "    # Compute 0.6mm fields\n",
    "    spatdat.compute_fields(width_microns=600)\n",
    "    hpfs_600.append(spatdat.hpfs)\n",
    "\n",
    "    # Compute 1.0mm fields\n",
    "    spatdat.compute_fields(width_microns=1000)\n",
    "    hpfs_1000.append(spatdat.hpfs)\n",
    "\n",
    "    # Compute 2.0mm fields\n",
    "    spatdat.compute_fields(width_microns=2000)\n",
    "    hpfs_2000.append(spatdat.hpfs)\n",
    "\n",
    "hpfs_600 = pd.concat(hpfs_600).reset_index(drop=True)\n",
    "hpfs_1000 = pd.concat(hpfs_1000).reset_index(drop=True)\n",
    "hpfs_2000 = pd.concat(hpfs_2000).reset_index(drop=True)"
   ]
  },
  {
   "cell_type": "code",
   "execution_count": 4,
   "metadata": {},
   "outputs": [],
   "source": [
    "mean_600 = hpfs_600.groupby([\"sampleid\", \"region\"])[\"density\"].transform(\"mean\").reset_index(drop=True)\n",
    "std_600 = hpfs_600.groupby([\"sampleid\", \"region\"])[\"density\"].transform(\"std\").reset_index(drop=True)\n",
    "\n",
    "mean_1000 = hpfs_1000.groupby([\"sampleid\", \"region\"])[\"density\"].transform(\"mean\").reset_index(drop=True)\n",
    "std_1000 = hpfs_1000.groupby([\"sampleid\", \"region\"])[\"density\"].transform(\"std\").reset_index(drop=True)\n",
    "\n",
    "mean_2000 = hpfs_2000.groupby([\"sampleid\", \"region\"])[\"density\"].transform(\"mean\").reset_index(drop=True)\n",
    "std_2000 = hpfs_2000.groupby([\"sampleid\", \"region\"])[\"density\"].transform(\"std\").reset_index(drop=True)\n",
    "\n",
    "hpfs_600[\"norm_density\"] = (hpfs_600[\"density\"] - mean_600) / std_600\n",
    "\n",
    "hpfs_1000[\"norm_density\"] = (hpfs_1000[\"density\"] - mean_1000) / std_1000\n",
    "\n",
    "hpfs_2000[\"norm_density\"] = (hpfs_2000[\"density\"] - mean_2000) / std_2000"
   ]
  },
  {
   "cell_type": "code",
   "execution_count": 5,
   "metadata": {},
   "outputs": [],
   "source": [
    "hpfs_600.to_excel(\"../../../../Data/hpfs_600.xlsx\", index=False)\n",
    "hpfs_1000.to_excel(\"../../../../Data/hpfs_1000.xlsx\", index=False)\n",
    "hpfs_2000.to_excel(\"../../../../Data/hpfs_2000.xlsx\", index=False)"
   ]
  },
  {
   "cell_type": "markdown",
   "metadata": {},
   "source": [
    "## Sample Size Estimation"
   ]
  },
  {
   "cell_type": "code",
   "execution_count": 69,
   "metadata": {},
   "outputs": [],
   "source": [
    "hpfs_600 = pd.read_excel(\"../../../../Data/hpfs_600.xlsx\")\n",
    "hpfs_1000 = pd.read_excel(\"../../../../Data/hpfs_1000.xlsx\")\n",
    "hpfs_2000 = pd.read_excel(\"../../../../Data/hpfs_2000.xlsx\")"
   ]
  },
  {
   "cell_type": "code",
   "execution_count": 4,
   "metadata": {},
   "outputs": [],
   "source": [
    "hpf_tum = [loads(x) for x in hpfs_600[(hpfs_600[\"sampleid\"] == \"01_F\") & (hpfs_600[\"region\"] == \"tumour\")][\"geometry\"]]\n",
    "hpf_tum = gpd.GeoDataFrame(geometry=hpf_tum)\n",
    "\n",
    "hpf_im = [loads(x) for x in hpfs_600[(hpfs_600[\"sampleid\"] == \"01_F\") & (hpfs_600[\"region\"] == \"IM\")][\"geometry\"]]\n",
    "hpf_im = gpd.GeoDataFrame(geometry=hpf_im)"
   ]
  },
  {
   "cell_type": "code",
   "execution_count": null,
   "metadata": {},
   "outputs": [],
   "source": [
    "# hpf_tum = [loads(x) for x in hpfs_1000[(hpfs_1000[\"sampleid\"] == \"01_F\") & (hpfs_1000[\"region\"] == \"tumour\")][\"geometry\"]]\n",
    "# hpf_tum = gpd.GeoDataFrame(geometry=hpf_tum)\n",
    "\n",
    "# hpf_im = [loads(x) for x in hpfs_1000[(hpfs_1000[\"sampleid\"] == \"01_F\") & (hpfs_1000[\"region\"] == \"IM\")][\"geometry\"]]\n",
    "# hpf_im = gpd.GeoDataFrame(geometry=hpf_im)"
   ]
  },
  {
   "cell_type": "code",
   "execution_count": null,
   "metadata": {},
   "outputs": [],
   "source": [
    "# hpf_tum = [loads(x) for x in hpfs_2000[(hpfs_2000[\"sampleid\"] == \"01_F\") & (hpfs_2000[\"region\"] == \"tumour\")][\"geometry\"]]\n",
    "# hpf_tum = gpd.GeoDataFrame(geometry=hpf_tum)\n",
    "\n",
    "# hpf_im = [loads(x) for x in hpfs_2000[(hpfs_2000[\"sampleid\"] == \"01_F\") & (hpfs_2000[\"region\"] == \"IM\")][\"geometry\"]]\n",
    "# hpf_im = gpd.GeoDataFrame(geometry=hpf_im)"
   ]
  },
  {
   "cell_type": "code",
   "execution_count": 5,
   "metadata": {},
   "outputs": [],
   "source": [
    "spatdat = SpatDat(\"01_F\", parent_filepath)"
   ]
  },
  {
   "cell_type": "code",
   "execution_count": 6,
   "metadata": {},
   "outputs": [],
   "source": [
    "tum = spatdat.subset_annotation(\"tumour\")\n",
    "im = spatdat.subset_annotation(\"outer_IM_hull\")"
   ]
  },
  {
   "cell_type": "code",
   "execution_count": 42,
   "metadata": {},
   "outputs": [
    {
     "data": {
      "image/png": "[encoded data removed]",
      "text/plain": [
       "<Figure size 640x480 with 1 Axes>"
      ]
     },
     "metadata": {},
     "output_type": "display_data"
    }
   ],
   "source": [
    "hpf_tum.plot(color=\"None\", edgecolor=\"crimson\")\n",
    "hpf_im.plot(color=\"None\", edgecolor=\"blue\", ax=plt.gca())\n",
    "for geom in tum.geoms:\n",
    "    plt.plot(*geom.exterior.xy, color=\"red\", alpha=0.5)\n",
    "# for geom in im.geoms:\n",
    "#     plt.plot(*geom.exterior.xy, color=\"green\")\n",
    "\n",
    "plt.plot(*im.exterior.xy, color=(52/255, 181/255, 227/255), alpha=0.5)\n",
    "    \n",
    "plt.savefig(\"../../../../Data/example_hpfs_600.png\", dpi=300, transparent=True)"
   ]
  },
  {
   "cell_type": "code",
   "execution_count": 70,
   "metadata": {},
   "outputs": [],
   "source": [
    "def sample_size_estimator(data_mean, data_std, rel_error=0.2, z=1.96):\n",
    "    n = (z * data_std / (data_mean * rel_error)) ** 2\n",
    "    return n"
   ]
  },
  {
   "cell_type": "code",
   "execution_count": 71,
   "metadata": {},
   "outputs": [
    {
     "data": {
      "text/plain": [
       "<Figure size 640x480 with 0 Axes>"
      ]
     },
     "metadata": {},
     "output_type": "display_data"
    }
   ],
   "source": [
    "samples = []\n",
    "regions = []\n",
    "ns = []\n",
    "area_per_sample = []\n",
    "for sampleid in sampleids:\n",
    "    test_tum = hpfs_600[(hpfs_600[\"sampleid\"] == sampleid) & (hpfs_600[\"region\"] == \"tumour\")].reset_index(drop=True)\n",
    "\n",
    "    test_im = hpfs_600[(hpfs_600[\"sampleid\"] == sampleid) & (hpfs_600[\"region\"] == \"IM\")].reset_index(drop=True)\n",
    "\n",
    "    # Plot Tumour histogram =========================================\n",
    "    plt.hist(test_tum[\"norm_density\"], bins=100, color=\"lightcoral\", edgecolor=\"black\")\n",
    "\n",
    "    plt.xlabel(\"Stdev from Mean Density\", fontdict=font_dict)\n",
    "    plt.ylabel(\"Frequency\", fontdict=font_dict)\n",
    "\n",
    "    plt.title(f\"{sampleid} Tumour Density Distribution\", fontdict=font_dict)\n",
    "\n",
    "    plt.savefig(f\"../../../../Data/Plots/Density/Distributions_600/{sampleid}_tumour_den_distribution.png\", dpi=300, transparent=True)\n",
    "\n",
    "    plt.cla()\n",
    "    plt.clf()\n",
    "    # ===============================================================\n",
    "\n",
    "    # Plot IM histogram =============================================\n",
    "    plt.hist(test_im[\"norm_density\"], bins=100, color=(52/255, 181/255, 227/255), edgecolor=\"black\", density=True)\n",
    "\n",
    "    plt.xticks(fontsize=10, fontname=\"Arial\")\n",
    "    plt.yticks(fontsize=10, fontname=\"Arial\")\n",
    "\n",
    "    plt.xlabel(\"Stdev from Mean Density\", fontdict=font_dict)\n",
    "    plt.ylabel(\"Frequency\", fontdict=font_dict)\n",
    "\n",
    "    plt.title(f\"{sampleid} Tumour Density Distribution\", fontdict=font_dict)\n",
    "\n",
    "    plt.savefig(f\"../../../../Data/Plots/Density/Distributions_600/{sampleid}_IM_den_distribution.png\", dpi=300, transparent=True)\n",
    "\n",
    "    plt.cla()\n",
    "    plt.clf()\n",
    "    # ===============================================================\n",
    "\n",
    "    tum_mean = test_tum[\"density\"].mean()\n",
    "    tum_std = test_tum[\"density\"].std()\n",
    "\n",
    "    im_mean = test_im[\"density\"].mean()\n",
    "    im_std = test_im[\"density\"].std()\n",
    "\n",
    "    tum_n = sample_size_estimator(tum_mean, tum_std)\n",
    "    im_n = sample_size_estimator(im_mean, im_std)\n",
    "\n",
    "    samples.append(sampleid)\n",
    "    regions.append(\"tumour\")\n",
    "    ns.append(tum_n)\n",
    "    area_per_sample.append(0.6 ** 2)\n",
    "    samples.append(sampleid)\n",
    "    regions.append(\"IM\")\n",
    "    ns.append(im_n)\n",
    "    area_per_sample.append(0.6 ** 2)\n",
    "\n",
    "samples_600 = pd.DataFrame({\"sampleid\": samples, \"region\": regions, \"samples\": ns, \"area_per_sample\": area_per_sample})"
   ]
  },
  {
   "cell_type": "code",
   "execution_count": 72,
   "metadata": {},
   "outputs": [
    {
     "data": {
      "text/plain": [
       "<Figure size 640x480 with 0 Axes>"
      ]
     },
     "metadata": {},
     "output_type": "display_data"
    }
   ],
   "source": [
    "samples = []\n",
    "regions = []\n",
    "ns = []\n",
    "area_per_sample = []\n",
    "for sampleid in sampleids:\n",
    "    test_tum = hpfs_1000[(hpfs_1000[\"sampleid\"] == sampleid) & (hpfs_1000[\"region\"] == \"tumour\")].reset_index(drop=True)\n",
    "\n",
    "    test_im = hpfs_1000[(hpfs_1000[\"sampleid\"] == sampleid) & (hpfs_1000[\"region\"] == \"IM\")].reset_index(drop=True)\n",
    "\n",
    "    tum_mean = test_tum[\"density\"].mean()\n",
    "    tum_std = test_tum[\"density\"].std()\n",
    "\n",
    "    im_mean = test_im[\"density\"].mean()\n",
    "    im_std = test_im[\"density\"].std()\n",
    "\n",
    "    if any(test_tum[\"norm_density\"].isna()):\n",
    "        pass\n",
    "    else:\n",
    "        # Plot Tumour histogram =======================================\n",
    "        plt.hist(test_tum[\"norm_density\"], bins=100, color=\"lightcoral\", edgecolor=\"black\")\n",
    "\n",
    "        plt.xlabel(\"Stdev from Mean Density\", fontdict=font_dict)\n",
    "        plt.ylabel(\"Frequency\", fontdict=font_dict)\n",
    "\n",
    "        plt.title(f\"{sampleid} Tumour Density Distribution\", fontdict=font_dict)\n",
    "\n",
    "        plt.savefig(f\"../../../../Data/Plots/Density/Distributions_1000/{sampleid}_tumour_den_distribution.png\", dpi=300, transparent=True)\n",
    "\n",
    "        plt.cla()\n",
    "        plt.clf()\n",
    "        # =============================================================\n",
    "\n",
    "    if any(test_im[\"norm_density\"].isna()):\n",
    "        pass\n",
    "    else:\n",
    "        # Plot IM histogram =============================================\n",
    "        plt.hist(test_im[\"norm_density\"], bins=100, color=(52/255, 181/255, 227/255), edgecolor=\"black\", density=True)\n",
    "\n",
    "        plt.xticks(fontsize=10, fontname=\"Arial\")\n",
    "        plt.yticks(fontsize=10, fontname=\"Arial\")\n",
    "\n",
    "        plt.xlabel(\"Stdev from Mean Density\", fontdict=font_dict)\n",
    "        plt.ylabel(\"Frequency\", fontdict=font_dict)\n",
    "\n",
    "        plt.title(f\"{sampleid} Tumour Density Distribution\", fontdict=font_dict)\n",
    "\n",
    "        plt.savefig(f\"../../../../Data/Plots/Density/Distributions_1000/{sampleid}_IM_den_distribution.png\", dpi=300, transparent=True)\n",
    "\n",
    "        plt.cla()\n",
    "        plt.clf()\n",
    "        # =============================================================\n",
    "    \n",
    "    \n",
    "    tum_n = sample_size_estimator(tum_mean, tum_std)\n",
    "    im_n = sample_size_estimator(im_mean, im_std)\n",
    "\n",
    "    samples.append(sampleid)\n",
    "    regions.append(\"tumour\")\n",
    "    ns.append(tum_n)\n",
    "    area_per_sample.append(1.0 ** 2)\n",
    "    samples.append(sampleid)\n",
    "    regions.append(\"IM\")\n",
    "    ns.append(im_n)\n",
    "    area_per_sample.append(1.0 ** 2)\n",
    "\n",
    "samples_1000 = pd.DataFrame({\"sampleid\": samples, \"region\": regions, \"samples\": ns, \"area_per_sample\": area_per_sample})"
   ]
  },
  {
   "cell_type": "code",
   "execution_count": 73,
   "metadata": {},
   "outputs": [
    {
     "data": {
      "text/plain": [
       "<Figure size 640x480 with 0 Axes>"
      ]
     },
     "metadata": {},
     "output_type": "display_data"
    }
   ],
   "source": [
    "samples = []\n",
    "regions = []\n",
    "ns = []\n",
    "area_per_sample = []\n",
    "for sampleid in sampleids:\n",
    "    test_tum = hpfs_2000[(hpfs_2000[\"sampleid\"] == sampleid) & (hpfs_2000[\"region\"] == \"tumour\")].reset_index(drop=True)\n",
    "\n",
    "    test_im = hpfs_2000[(hpfs_2000[\"sampleid\"] == sampleid) & (hpfs_2000[\"region\"] == \"IM\")].reset_index(drop=True)\n",
    "\n",
    "    if any(test_tum[\"norm_density\"].isna()):\n",
    "        pass\n",
    "    else:\n",
    "        # Plot Tumour histogram =======================================\n",
    "        plt.hist(test_tum[\"norm_density\"], bins=100, color=\"lightcoral\", edgecolor=\"black\")\n",
    "\n",
    "        plt.xlabel(\"Stdev from Mean Density\", fontdict=font_dict)\n",
    "        plt.ylabel(\"Frequency\", fontdict=font_dict)\n",
    "\n",
    "        plt.title(f\"{sampleid} Tumour Density Distribution\", fontdict=font_dict)\n",
    "\n",
    "        plt.savefig(f\"../../../../Data/Plots/Density/Distributions_2000/{sampleid}_tumour_den_distribution.png\", dpi=300, transparent=True)\n",
    "\n",
    "        plt.cla()\n",
    "        plt.clf()\n",
    "        # =============================================================\n",
    "\n",
    "    if any(test_im[\"norm_density\"].isna()):\n",
    "        pass\n",
    "    else:\n",
    "        # Plot IM histogram ===========================================\n",
    "        plt.hist(test_im[\"norm_density\"], bins=100, color=(52/255, 181/255, 227/255), edgecolor=\"black\", density=True)\n",
    "\n",
    "        plt.xticks(fontsize=10, fontname=\"Arial\")\n",
    "        plt.yticks(fontsize=10, fontname=\"Arial\")\n",
    "\n",
    "        plt.xlabel(\"Stdev from Mean Density\", fontdict=font_dict)\n",
    "        plt.ylabel(\"Frequency\", fontdict=font_dict)\n",
    "\n",
    "        plt.title(f\"{sampleid} Tumour Density Distribution\", fontdict=font_dict)\n",
    "\n",
    "        plt.savefig(f\"../../../../Data/Plots/Density/Distributions_2000/{sampleid}_IM_den_distribution.png\", dpi=300, transparent=True)\n",
    "\n",
    "        plt.cla()\n",
    "        plt.clf()\n",
    "        # =============================================================\n",
    "\n",
    "    tum_mean = test_tum[\"density\"].mean()\n",
    "    tum_std = test_tum[\"density\"].std()\n",
    "\n",
    "    im_mean = test_im[\"density\"].mean()\n",
    "    im_std = test_im[\"density\"].std()\n",
    "\n",
    "    tum_n = sample_size_estimator(tum_mean, tum_std)\n",
    "    im_n = sample_size_estimator(im_mean, im_std)\n",
    "\n",
    "    samples.append(sampleid)\n",
    "    regions.append(\"tumour\")\n",
    "    ns.append(tum_n)\n",
    "    area_per_sample.append(2.0 ** 2)\n",
    "    samples.append(sampleid)\n",
    "    regions.append(\"IM\")\n",
    "    ns.append(im_n)\n",
    "    area_per_sample.append(2.0 ** 2)\n",
    "\n",
    "samples_2000 = pd.DataFrame({\"sampleid\": samples, \"region\": regions, \"samples\": ns, \"area_per_sample\": area_per_sample})"
   ]
  },
  {
   "cell_type": "code",
   "execution_count": 12,
   "metadata": {},
   "outputs": [],
   "source": [
    "samples_total = pd.concat([samples_600, samples_1000, samples_2000]).reset_index(drop=True)"
   ]
  },
  {
   "cell_type": "code",
   "execution_count": 13,
   "metadata": {},
   "outputs": [],
   "source": [
    "samples_total.to_excel(\"../../../../Data/hpfs_total.xlsx\", index=False)"
   ]
  },
  {
   "cell_type": "code",
   "execution_count": 14,
   "metadata": {},
   "outputs": [],
   "source": [
    "samples_total = pd.read_excel(\"../../../../Data/hpfs_total.xlsx\")"
   ]
  },
  {
   "cell_type": "code",
   "execution_count": 15,
   "metadata": {},
   "outputs": [],
   "source": [
    "ws = pd.read_excel(\"../../../../Data/WS_stats.xlsx\")\n",
    "ws = ws.rename(columns={\"sample\": \"sampleid\", \"annotation\": \"region\", \"density\": \"ws_density\", \"area_mm\": \"ws_area\"})"
   ]
  },
  {
   "cell_type": "code",
   "execution_count": 16,
   "metadata": {},
   "outputs": [],
   "source": [
    "samples_total = samples_total.merge(ws[[\"sampleid\", \"region\", \"ws_density\", \"ws_area\"]], on=[\"sampleid\", \"region\"], how=\"left\")"
   ]
  },
  {
   "cell_type": "code",
   "execution_count": 17,
   "metadata": {},
   "outputs": [],
   "source": [
    "samples_total[\"rel_area_sampled\"] = samples_total[\"samples\"] * samples_total[\"area_per_sample\"] / samples_total[\"ws_area\"]"
   ]
  },
  {
   "cell_type": "code",
   "execution_count": 18,
   "metadata": {},
   "outputs": [],
   "source": [
    "samples_total[\"rel_area_sampled_adj\"] = [min(1.0, x) for x in samples_total[\"rel_area_sampled\"]]"
   ]
  },
  {
   "cell_type": "code",
   "execution_count": 19,
   "metadata": {},
   "outputs": [],
   "source": [
    "samples_total_test = samples_total.dropna(subset=\"samples\").reset_index(drop=True)"
   ]
  },
  {
   "cell_type": "code",
   "execution_count": 20,
   "metadata": {},
   "outputs": [
    {
     "data": {
      "text/html": [
       "<div>\n",
       "<style scoped>\n",
       "    .dataframe tbody tr th:only-of-type {\n",
       "        vertical-align: middle;\n",
       "    }\n",
       "\n",
       "    .dataframe tbody tr th {\n",
       "        vertical-align: top;\n",
       "    }\n",
       "\n",
       "    .dataframe thead th {\n",
       "        text-align: right;\n",
       "    }\n",
       "</style>\n",
       "<table border=\"1\" class=\"dataframe\">\n",
       "  <thead>\n",
       "    <tr style=\"text-align: right;\">\n",
       "      <th></th>\n",
       "      <th>region</th>\n",
       "      <th>area_per_sample</th>\n",
       "      <th>rel_area_sampled_adj</th>\n",
       "      <th>samples</th>\n",
       "    </tr>\n",
       "  </thead>\n",
       "  <tbody>\n",
       "    <tr>\n",
       "      <th>0</th>\n",
       "      <td>IM</td>\n",
       "      <td>0.36</td>\n",
       "      <td>0.313749</td>\n",
       "      <td>60.300419</td>\n",
       "    </tr>\n",
       "    <tr>\n",
       "      <th>1</th>\n",
       "      <td>IM</td>\n",
       "      <td>1.00</td>\n",
       "      <td>0.530056</td>\n",
       "      <td>42.246946</td>\n",
       "    </tr>\n",
       "    <tr>\n",
       "      <th>2</th>\n",
       "      <td>IM</td>\n",
       "      <td>4.00</td>\n",
       "      <td>0.731146</td>\n",
       "      <td>24.113030</td>\n",
       "    </tr>\n",
       "    <tr>\n",
       "      <th>3</th>\n",
       "      <td>tumour</td>\n",
       "      <td>0.36</td>\n",
       "      <td>0.348180</td>\n",
       "      <td>53.148737</td>\n",
       "    </tr>\n",
       "    <tr>\n",
       "      <th>4</th>\n",
       "      <td>tumour</td>\n",
       "      <td>1.00</td>\n",
       "      <td>0.459317</td>\n",
       "      <td>37.193560</td>\n",
       "    </tr>\n",
       "    <tr>\n",
       "      <th>5</th>\n",
       "      <td>tumour</td>\n",
       "      <td>4.00</td>\n",
       "      <td>0.524989</td>\n",
       "      <td>18.264243</td>\n",
       "    </tr>\n",
       "  </tbody>\n",
       "</table>\n",
       "</div>"
      ],
      "text/plain": [
       "   region  area_per_sample  rel_area_sampled_adj    samples\n",
       "0      IM             0.36              0.313749  60.300419\n",
       "1      IM             1.00              0.530056  42.246946\n",
       "2      IM             4.00              0.731146  24.113030\n",
       "3  tumour             0.36              0.348180  53.148737\n",
       "4  tumour             1.00              0.459317  37.193560\n",
       "5  tumour             4.00              0.524989  18.264243"
      ]
     },
     "execution_count": 20,
     "metadata": {},
     "output_type": "execute_result"
    }
   ],
   "source": [
    "samples_total_test.groupby([\"region\", \"area_per_sample\"])[[\"rel_area_sampled_adj\", \"samples\"]].mean().reset_index()"
   ]
  },
  {
   "cell_type": "code",
   "execution_count": 22,
   "metadata": {},
   "outputs": [
    {
     "data": {
      "text/html": [
       "<div>\n",
       "<style scoped>\n",
       "    .dataframe tbody tr th:only-of-type {\n",
       "        vertical-align: middle;\n",
       "    }\n",
       "\n",
       "    .dataframe tbody tr th {\n",
       "        vertical-align: top;\n",
       "    }\n",
       "\n",
       "    .dataframe thead th {\n",
       "        text-align: right;\n",
       "    }\n",
       "</style>\n",
       "<table border=\"1\" class=\"dataframe\">\n",
       "  <thead>\n",
       "    <tr style=\"text-align: right;\">\n",
       "      <th></th>\n",
       "      <th>region</th>\n",
       "      <th>area_per_sample</th>\n",
       "      <th>rel_area_sampled</th>\n",
       "    </tr>\n",
       "  </thead>\n",
       "  <tbody>\n",
       "    <tr>\n",
       "      <th>0</th>\n",
       "      <td>IM</td>\n",
       "      <td>0.36</td>\n",
       "      <td>0.340391</td>\n",
       "    </tr>\n",
       "    <tr>\n",
       "      <th>1</th>\n",
       "      <td>IM</td>\n",
       "      <td>1.00</td>\n",
       "      <td>0.647320</td>\n",
       "    </tr>\n",
       "    <tr>\n",
       "      <th>2</th>\n",
       "      <td>IM</td>\n",
       "      <td>4.00</td>\n",
       "      <td>1.360778</td>\n",
       "    </tr>\n",
       "    <tr>\n",
       "      <th>3</th>\n",
       "      <td>tumour</td>\n",
       "      <td>0.36</td>\n",
       "      <td>0.380132</td>\n",
       "    </tr>\n",
       "    <tr>\n",
       "      <th>4</th>\n",
       "      <td>tumour</td>\n",
       "      <td>1.00</td>\n",
       "      <td>0.605109</td>\n",
       "    </tr>\n",
       "    <tr>\n",
       "      <th>5</th>\n",
       "      <td>tumour</td>\n",
       "      <td>4.00</td>\n",
       "      <td>0.807750</td>\n",
       "    </tr>\n",
       "  </tbody>\n",
       "</table>\n",
       "</div>"
      ],
      "text/plain": [
       "   region  area_per_sample  rel_area_sampled\n",
       "0      IM             0.36          0.340391\n",
       "1      IM             1.00          0.647320\n",
       "2      IM             4.00          1.360778\n",
       "3  tumour             0.36          0.380132\n",
       "4  tumour             1.00          0.605109\n",
       "5  tumour             4.00          0.807750"
      ]
     },
     "execution_count": 22,
     "metadata": {},
     "output_type": "execute_result"
    }
   ],
   "source": [
    "samples_total.groupby([\"region\", \"area_per_sample\"])[\"rel_area_sampled\"].mean().reset_index()"
   ]
  },
  {
   "cell_type": "markdown",
   "metadata": {},
   "source": [
    "## Cumulative Distribution, IM vs CT Distributions"
   ]
  },
  {
   "cell_type": "code",
   "execution_count": 28,
   "metadata": {},
   "outputs": [],
   "source": [
    "for sampleid in sampleids:\n",
    "    data = hpfs_600[(hpfs_600[\"region\"] == \"tumour\") & (hpfs_600[\"sampleid\"] == sampleid)].reset_index(drop=True)\n",
    "\n",
    "    data = data.sort_values(\"density\", ascending=False).reset_index(drop=True)\n",
    "    data[\"cum_count\"] = data[\"cell_count\"].cumsum()\n",
    "    data[\"cum_area\"] = data[\"area\"].cumsum()\n",
    "    data[\"area_prop\"] = data[\"cum_area\"] / data[\"area\"].sum()"
   ]
  },
  {
   "cell_type": "code",
   "execution_count": 29,
   "metadata": {},
   "outputs": [
    {
     "data": {
      "text/plain": [
       "[<matplotlib.lines.Line2D at 0x1447debd250>]"
      ]
     },
     "execution_count": 29,
     "metadata": {},
     "output_type": "execute_result"
    },
    {
     "data": {
      "image/png": "[encoded data removed]",
      "text/plain": [
       "<Figure size 640x480 with 1 Axes>"
      ]
     },
     "metadata": {},
     "output_type": "display_data"
    }
   ],
   "source": [
    "plt.plot(data[\"area_prop\"], data[\"cum_count\"])"
   ]
  },
  {
   "cell_type": "code",
   "execution_count": 30,
   "metadata": {},
   "outputs": [
    {
     "data": {
      "text/plain": [
       "(array([0.00324247, 0.        , 0.        , 0.00648494, 0.00324247,\n",
       "        0.        , 0.02269727, 0.03566714, 0.02918221, 0.06809182,\n",
       "        0.03566714, 0.05187948, 0.10375897, 0.10700143, 0.23021521,\n",
       "        0.15239598, 0.35342898, 0.2204878 , 0.27885222, 0.5123099 ,\n",
       "        0.45070301, 0.34370158, 0.9338307 , 0.48637016, 0.40855093,\n",
       "        0.41503587, 0.39233859, 0.35667145, 0.40855093, 0.37288379,\n",
       "        0.37288379, 0.30479196, 0.3015495 , 0.32424677, 0.28209469,\n",
       "        0.24967001, 0.24642755, 0.24318508, 0.16212339, 0.2107604 ,\n",
       "        0.15239598, 0.14266858, 0.13942611, 0.11672884, 0.13618364,\n",
       "        0.09727403, 0.07781922, 0.07781922, 0.07133429, 0.08754663,\n",
       "        0.05836442, 0.04215208, 0.03566714, 0.03566714, 0.02593974,\n",
       "        0.03566714, 0.03566714, 0.02593974, 0.02593974, 0.01296987,\n",
       "        0.02269727, 0.01296987, 0.01945481, 0.00648494, 0.0097274 ,\n",
       "        0.        , 0.00324247, 0.00648494, 0.00324247, 0.00648494,\n",
       "        0.00324247, 0.        , 0.00324247, 0.        , 0.        ,\n",
       "        0.00648494, 0.        , 0.        , 0.        , 0.00648494,\n",
       "        0.00324247, 0.        , 0.        , 0.        , 0.        ,\n",
       "        0.        , 0.        , 0.        , 0.        , 0.        ,\n",
       "        0.        , 0.        , 0.00324247, 0.00324247, 0.        ,\n",
       "        0.00324247, 0.00324247, 0.        , 0.        , 0.00324247]),\n",
       " array([-2.59684014, -2.50629197, -2.41574379, -2.32519562, -2.23464744,\n",
       "        -2.14409927, -2.0535511 , -1.96300292, -1.87245475, -1.78190657,\n",
       "        -1.6913584 , -1.60081022, -1.51026205, -1.41971388, -1.3291657 ,\n",
       "        -1.23861753, -1.14806935, -1.05752118, -0.96697301, -0.87642483,\n",
       "        -0.78587666, -0.69532848, -0.60478031, -0.51423214, -0.42368396,\n",
       "        -0.33313579, -0.24258761, -0.15203944, -0.06149127,  0.02905691,\n",
       "         0.11960508,  0.21015326,  0.30070143,  0.39124961,  0.48179778,\n",
       "         0.57234595,  0.66289413,  0.7534423 ,  0.84399048,  0.93453865,\n",
       "         1.02508682,  1.115635  ,  1.20618317,  1.29673135,  1.38727952,\n",
       "         1.47782769,  1.56837587,  1.65892404,  1.74947222,  1.84002039,\n",
       "         1.93056856,  2.02111674,  2.11166491,  2.20221309,  2.29276126,\n",
       "         2.38330944,  2.47385761,  2.56440578,  2.65495396,  2.74550213,\n",
       "         2.83605031,  2.92659848,  3.01714665,  3.10769483,  3.198243  ,\n",
       "         3.28879118,  3.37933935,  3.46988752,  3.5604357 ,  3.65098387,\n",
       "         3.74153205,  3.83208022,  3.92262839,  4.01317657,  4.10372474,\n",
       "         4.19427292,  4.28482109,  4.37536926,  4.46591744,  4.55646561,\n",
       "         4.64701379,  4.73756196,  4.82811014,  4.91865831,  5.00920648,\n",
       "         5.09975466,  5.19030283,  5.28085101,  5.37139918,  5.46194735,\n",
       "         5.55249553,  5.6430437 ,  5.73359188,  5.82414005,  5.91468822,\n",
       "         6.0052364 ,  6.09578457,  6.18633275,  6.27688092,  6.36742909,\n",
       "         6.45797727]),\n",
       " <BarContainer object of 100 artists>)"
      ]
     },
     "execution_count": 30,
     "metadata": {},
     "output_type": "execute_result"
    },
    {
     "data": {
      "image/png": "[encoded data removed]",
      "text/plain": [
       "<Figure size 640x480 with 1 Axes>"
      ]
     },
     "metadata": {},
     "output_type": "display_data"
    }
   ],
   "source": [
    "data = hpfs_600.copy()\n",
    "\n",
    "plt.hist(data[data[\"region\"] == \"tumour\"][\"norm_density\"], bins=100, color=\"lightcoral\", label=\"0.6mm\", edgecolor=\"black\", density=True)\n",
    "plt.hist(data[data[\"region\"] == \"IM\"][\"norm_density\"], bins=100, color=\"lightgreen\", label=\"0.6mm\", edgecolor=\"black\", density=True)"
   ]
  },
  {
   "cell_type": "code",
   "execution_count": 31,
   "metadata": {},
   "outputs": [],
   "source": [
    "new_df = hpfs_600.groupby([\"sampleid\", \"region\"])[\"density\"].mean().reset_index()\n",
    "new_df[\"std_den\"] = hpfs_600.groupby([\"sampleid\", \"region\"])[\"density\"].std().reset_index()[\"density\"]"
   ]
  },
  {
   "cell_type": "code",
   "execution_count": 32,
   "metadata": {},
   "outputs": [],
   "source": [
    "new_df[\"sample_area\"] = ((1.96*new_df[\"std_den\"])/(0.1*new_df[\"density\"]))**2 * 0.6**2"
   ]
  },
  {
   "cell_type": "code",
   "execution_count": 33,
   "metadata": {},
   "outputs": [],
   "source": [
    "new_df = new_df.merge(hpfs_600.groupby([\"sampleid\", \"region\"])[\"area\"].sum().reset_index(), on=[\"sampleid\", \"region\"], how=\"left\")"
   ]
  },
  {
   "cell_type": "code",
   "execution_count": 34,
   "metadata": {},
   "outputs": [],
   "source": [
    "new_df[\"sample_prop\"] = (new_df[\"sample_area\"] / new_df[\"area\"]).clip(upper=1)"
   ]
  },
  {
   "cell_type": "code",
   "execution_count": 35,
   "metadata": {},
   "outputs": [],
   "source": [
    "new_df[\"sample_prop_mod\"] = new_df[\"sample_prop\"] / (1 + new_df[\"sample_prop\"]/1.0)"
   ]
  },
  {
   "cell_type": "code",
   "execution_count": 36,
   "metadata": {},
   "outputs": [
    {
     "data": {
      "text/html": [
       "<div>\n",
       "<style scoped>\n",
       "    .dataframe tbody tr th:only-of-type {\n",
       "        vertical-align: middle;\n",
       "    }\n",
       "\n",
       "    .dataframe tbody tr th {\n",
       "        vertical-align: top;\n",
       "    }\n",
       "\n",
       "    .dataframe thead th {\n",
       "        text-align: right;\n",
       "    }\n",
       "</style>\n",
       "<table border=\"1\" class=\"dataframe\">\n",
       "  <thead>\n",
       "    <tr style=\"text-align: right;\">\n",
       "      <th></th>\n",
       "      <th>sampleid</th>\n",
       "      <th>region</th>\n",
       "      <th>density</th>\n",
       "      <th>std_den</th>\n",
       "      <th>sample_area</th>\n",
       "      <th>area</th>\n",
       "      <th>sample_prop</th>\n",
       "      <th>sample_prop_mod</th>\n",
       "    </tr>\n",
       "  </thead>\n",
       "  <tbody>\n",
       "    <tr>\n",
       "      <th>0</th>\n",
       "      <td>01_F</td>\n",
       "      <td>IM</td>\n",
       "      <td>857.022514</td>\n",
       "      <td>521.752479</td>\n",
       "      <td>51.257713</td>\n",
       "      <td>27.714240</td>\n",
       "      <td>1.000000</td>\n",
       "      <td>0.500000</td>\n",
       "    </tr>\n",
       "    <tr>\n",
       "      <th>1</th>\n",
       "      <td>01_F</td>\n",
       "      <td>tumour</td>\n",
       "      <td>812.195255</td>\n",
       "      <td>382.617348</td>\n",
       "      <td>30.691850</td>\n",
       "      <td>190.696899</td>\n",
       "      <td>0.160946</td>\n",
       "      <td>0.138633</td>\n",
       "    </tr>\n",
       "    <tr>\n",
       "      <th>2</th>\n",
       "      <td>01_G</td>\n",
       "      <td>IM</td>\n",
       "      <td>209.880244</td>\n",
       "      <td>274.937581</td>\n",
       "      <td>237.322951</td>\n",
       "      <td>17.434275</td>\n",
       "      <td>1.000000</td>\n",
       "      <td>0.500000</td>\n",
       "    </tr>\n",
       "    <tr>\n",
       "      <th>3</th>\n",
       "      <td>01_G</td>\n",
       "      <td>tumour</td>\n",
       "      <td>251.073662</td>\n",
       "      <td>200.062538</td>\n",
       "      <td>87.809980</td>\n",
       "      <td>25.969811</td>\n",
       "      <td>1.000000</td>\n",
       "      <td>0.500000</td>\n",
       "    </tr>\n",
       "    <tr>\n",
       "      <th>4</th>\n",
       "      <td>02_G</td>\n",
       "      <td>IM</td>\n",
       "      <td>909.544439</td>\n",
       "      <td>478.556946</td>\n",
       "      <td>38.285476</td>\n",
       "      <td>18.864705</td>\n",
       "      <td>1.000000</td>\n",
       "      <td>0.500000</td>\n",
       "    </tr>\n",
       "    <tr>\n",
       "      <th>...</th>\n",
       "      <td>...</td>\n",
       "      <td>...</td>\n",
       "      <td>...</td>\n",
       "      <td>...</td>\n",
       "      <td>...</td>\n",
       "      <td>...</td>\n",
       "      <td>...</td>\n",
       "      <td>...</td>\n",
       "    </tr>\n",
       "    <tr>\n",
       "      <th>65</th>\n",
       "      <td>28_FSC</td>\n",
       "      <td>tumour</td>\n",
       "      <td>130.919018</td>\n",
       "      <td>95.776747</td>\n",
       "      <td>74.016634</td>\n",
       "      <td>55.651452</td>\n",
       "      <td>1.000000</td>\n",
       "      <td>0.500000</td>\n",
       "    </tr>\n",
       "    <tr>\n",
       "      <th>66</th>\n",
       "      <td>29_L</td>\n",
       "      <td>IM</td>\n",
       "      <td>393.749116</td>\n",
       "      <td>286.071362</td>\n",
       "      <td>73.000230</td>\n",
       "      <td>46.989374</td>\n",
       "      <td>1.000000</td>\n",
       "      <td>0.500000</td>\n",
       "    </tr>\n",
       "    <tr>\n",
       "      <th>67</th>\n",
       "      <td>29_L</td>\n",
       "      <td>tumour</td>\n",
       "      <td>151.195041</td>\n",
       "      <td>106.742601</td>\n",
       "      <td>68.931085</td>\n",
       "      <td>27.993684</td>\n",
       "      <td>1.000000</td>\n",
       "      <td>0.500000</td>\n",
       "    </tr>\n",
       "    <tr>\n",
       "      <th>68</th>\n",
       "      <td>30_D</td>\n",
       "      <td>IM</td>\n",
       "      <td>709.571904</td>\n",
       "      <td>593.258416</td>\n",
       "      <td>96.673989</td>\n",
       "      <td>27.415380</td>\n",
       "      <td>1.000000</td>\n",
       "      <td>0.500000</td>\n",
       "    </tr>\n",
       "    <tr>\n",
       "      <th>69</th>\n",
       "      <td>30_D</td>\n",
       "      <td>tumour</td>\n",
       "      <td>355.254743</td>\n",
       "      <td>210.225557</td>\n",
       "      <td>48.429044</td>\n",
       "      <td>2.636690</td>\n",
       "      <td>1.000000</td>\n",
       "      <td>0.500000</td>\n",
       "    </tr>\n",
       "  </tbody>\n",
       "</table>\n",
       "<p>70 rows × 8 columns</p>\n",
       "</div>"
      ],
      "text/plain": [
       "   sampleid  region     density     std_den  sample_area        area  \\\n",
       "0      01_F      IM  857.022514  521.752479    51.257713   27.714240   \n",
       "1      01_F  tumour  812.195255  382.617348    30.691850  190.696899   \n",
       "2      01_G      IM  209.880244  274.937581   237.322951   17.434275   \n",
       "3      01_G  tumour  251.073662  200.062538    87.809980   25.969811   \n",
       "4      02_G      IM  909.544439  478.556946    38.285476   18.864705   \n",
       "..      ...     ...         ...         ...          ...         ...   \n",
       "65   28_FSC  tumour  130.919018   95.776747    74.016634   55.651452   \n",
       "66     29_L      IM  393.749116  286.071362    73.000230   46.989374   \n",
       "67     29_L  tumour  151.195041  106.742601    68.931085   27.993684   \n",
       "68     30_D      IM  709.571904  593.258416    96.673989   27.415380   \n",
       "69     30_D  tumour  355.254743  210.225557    48.429044    2.636690   \n",
       "\n",
       "    sample_prop  sample_prop_mod  \n",
       "0      1.000000         0.500000  \n",
       "1      0.160946         0.138633  \n",
       "2      1.000000         0.500000  \n",
       "3      1.000000         0.500000  \n",
       "4      1.000000         0.500000  \n",
       "..          ...              ...  \n",
       "65     1.000000         0.500000  \n",
       "66     1.000000         0.500000  \n",
       "67     1.000000         0.500000  \n",
       "68     1.000000         0.500000  \n",
       "69     1.000000         0.500000  \n",
       "\n",
       "[70 rows x 8 columns]"
      ]
     },
     "execution_count": 36,
     "metadata": {},
     "output_type": "execute_result"
    }
   ],
   "source": [
    "new_df"
   ]
  },
  {
   "cell_type": "code",
   "execution_count": 37,
   "metadata": {},
   "outputs": [
    {
     "data": {
      "text/plain": [
       "0.411463943903919"
      ]
     },
     "execution_count": 37,
     "metadata": {},
     "output_type": "execute_result"
    }
   ],
   "source": [
    "new_df[new_df[\"region\"] == \"tumour\"][\"sample_prop_mod\"].mean()"
   ]
  },
  {
   "cell_type": "code",
   "execution_count": 38,
   "metadata": {},
   "outputs": [
    {
     "data": {
      "text/plain": [
       "0.48148934541145494"
      ]
     },
     "execution_count": 38,
     "metadata": {},
     "output_type": "execute_result"
    }
   ],
   "source": [
    "new_df[new_df[\"region\"] == \"IM\"][\"sample_prop_mod\"].mean()"
   ]
  },
  {
   "cell_type": "markdown",
   "metadata": {},
   "source": [
    "### Calculate Mean Density in Top and Bottom Tertile per Sampleid"
   ]
  },
  {
   "cell_type": "code",
   "execution_count": null,
   "metadata": {},
   "outputs": [
    {
     "data": {
      "text/html": [
       "<div>\n",
       "<style scoped>\n",
       "    .dataframe tbody tr th:only-of-type {\n",
       "        vertical-align: middle;\n",
       "    }\n",
       "\n",
       "    .dataframe tbody tr th {\n",
       "        vertical-align: top;\n",
       "    }\n",
       "\n",
       "    .dataframe thead th {\n",
       "        text-align: right;\n",
       "    }\n",
       "</style>\n",
       "<table border=\"1\" class=\"dataframe\">\n",
       "  <thead>\n",
       "    <tr style=\"text-align: right;\">\n",
       "      <th></th>\n",
       "      <th>sampleid</th>\n",
       "      <th>mean_bottom</th>\n",
       "      <th>mean_top</th>\n",
       "    </tr>\n",
       "  </thead>\n",
       "  <tbody>\n",
       "    <tr>\n",
       "      <th>0</th>\n",
       "      <td>01_F</td>\n",
       "      <td>311.249739</td>\n",
       "      <td>1392.295520</td>\n",
       "    </tr>\n",
       "    <tr>\n",
       "      <th>1</th>\n",
       "      <td>01_G</td>\n",
       "      <td>3.396343</td>\n",
       "      <td>582.168411</td>\n",
       "    </tr>\n",
       "    <tr>\n",
       "      <th>2</th>\n",
       "      <td>02_G</td>\n",
       "      <td>397.736308</td>\n",
       "      <td>1731.960410</td>\n",
       "    </tr>\n",
       "    <tr>\n",
       "      <th>3</th>\n",
       "      <td>02_H</td>\n",
       "      <td>170.019900</td>\n",
       "      <td>747.408057</td>\n",
       "    </tr>\n",
       "    <tr>\n",
       "      <th>4</th>\n",
       "      <td>03_B</td>\n",
       "      <td>0.000000</td>\n",
       "      <td>444.468845</td>\n",
       "    </tr>\n",
       "    <tr>\n",
       "      <th>5</th>\n",
       "      <td>03_H</td>\n",
       "      <td>27.254009</td>\n",
       "      <td>587.565365</td>\n",
       "    </tr>\n",
       "    <tr>\n",
       "      <th>6</th>\n",
       "      <td>04_I</td>\n",
       "      <td>106.598958</td>\n",
       "      <td>823.814780</td>\n",
       "    </tr>\n",
       "    <tr>\n",
       "      <th>7</th>\n",
       "      <td>04_N</td>\n",
       "      <td>100.662989</td>\n",
       "      <td>913.185303</td>\n",
       "    </tr>\n",
       "    <tr>\n",
       "      <th>8</th>\n",
       "      <td>05_G</td>\n",
       "      <td>171.682277</td>\n",
       "      <td>1564.396521</td>\n",
       "    </tr>\n",
       "    <tr>\n",
       "      <th>9</th>\n",
       "      <td>05_I</td>\n",
       "      <td>93.253766</td>\n",
       "      <td>1735.786383</td>\n",
       "    </tr>\n",
       "    <tr>\n",
       "      <th>10</th>\n",
       "      <td>06_H</td>\n",
       "      <td>0.000000</td>\n",
       "      <td>446.479965</td>\n",
       "    </tr>\n",
       "    <tr>\n",
       "      <th>11</th>\n",
       "      <td>07_K</td>\n",
       "      <td>19.384532</td>\n",
       "      <td>359.808771</td>\n",
       "    </tr>\n",
       "    <tr>\n",
       "      <th>12</th>\n",
       "      <td>08_J</td>\n",
       "      <td>83.584589</td>\n",
       "      <td>867.896916</td>\n",
       "    </tr>\n",
       "    <tr>\n",
       "      <th>13</th>\n",
       "      <td>09_E</td>\n",
       "      <td>30.943583</td>\n",
       "      <td>704.008275</td>\n",
       "    </tr>\n",
       "    <tr>\n",
       "      <th>14</th>\n",
       "      <td>10_B</td>\n",
       "      <td>301.182879</td>\n",
       "      <td>983.979516</td>\n",
       "    </tr>\n",
       "    <tr>\n",
       "      <th>15</th>\n",
       "      <td>11_E</td>\n",
       "      <td>21.361478</td>\n",
       "      <td>393.043605</td>\n",
       "    </tr>\n",
       "    <tr>\n",
       "      <th>16</th>\n",
       "      <td>11_F</td>\n",
       "      <td>34.540586</td>\n",
       "      <td>510.067233</td>\n",
       "    </tr>\n",
       "    <tr>\n",
       "      <th>17</th>\n",
       "      <td>12_M</td>\n",
       "      <td>6.127407</td>\n",
       "      <td>541.816388</td>\n",
       "    </tr>\n",
       "    <tr>\n",
       "      <th>18</th>\n",
       "      <td>13_G</td>\n",
       "      <td>54.835154</td>\n",
       "      <td>593.370366</td>\n",
       "    </tr>\n",
       "    <tr>\n",
       "      <th>19</th>\n",
       "      <td>14_I</td>\n",
       "      <td>116.850841</td>\n",
       "      <td>586.085223</td>\n",
       "    </tr>\n",
       "    <tr>\n",
       "      <th>20</th>\n",
       "      <td>15_G</td>\n",
       "      <td>125.127117</td>\n",
       "      <td>995.310968</td>\n",
       "    </tr>\n",
       "    <tr>\n",
       "      <th>21</th>\n",
       "      <td>16_B</td>\n",
       "      <td>19.892449</td>\n",
       "      <td>505.224292</td>\n",
       "    </tr>\n",
       "    <tr>\n",
       "      <th>22</th>\n",
       "      <td>17_I</td>\n",
       "      <td>33.446573</td>\n",
       "      <td>520.650488</td>\n",
       "    </tr>\n",
       "    <tr>\n",
       "      <th>23</th>\n",
       "      <td>18_E</td>\n",
       "      <td>244.357230</td>\n",
       "      <td>1109.159159</td>\n",
       "    </tr>\n",
       "    <tr>\n",
       "      <th>24</th>\n",
       "      <td>19_F</td>\n",
       "      <td>111.672424</td>\n",
       "      <td>706.531658</td>\n",
       "    </tr>\n",
       "    <tr>\n",
       "      <th>25</th>\n",
       "      <td>21_I</td>\n",
       "      <td>65.956185</td>\n",
       "      <td>1035.201653</td>\n",
       "    </tr>\n",
       "    <tr>\n",
       "      <th>26</th>\n",
       "      <td>22_N</td>\n",
       "      <td>36.998823</td>\n",
       "      <td>416.978477</td>\n",
       "    </tr>\n",
       "    <tr>\n",
       "      <th>27</th>\n",
       "      <td>23_B</td>\n",
       "      <td>130.672872</td>\n",
       "      <td>777.706521</td>\n",
       "    </tr>\n",
       "    <tr>\n",
       "      <th>28</th>\n",
       "      <td>24_I</td>\n",
       "      <td>13.855006</td>\n",
       "      <td>535.856724</td>\n",
       "    </tr>\n",
       "    <tr>\n",
       "      <th>29</th>\n",
       "      <td>25_M</td>\n",
       "      <td>413.739112</td>\n",
       "      <td>1996.805293</td>\n",
       "    </tr>\n",
       "    <tr>\n",
       "      <th>30</th>\n",
       "      <td>26_I</td>\n",
       "      <td>30.062764</td>\n",
       "      <td>683.531245</td>\n",
       "    </tr>\n",
       "    <tr>\n",
       "      <th>31</th>\n",
       "      <td>27_H</td>\n",
       "      <td>358.043269</td>\n",
       "      <td>1010.542501</td>\n",
       "    </tr>\n",
       "    <tr>\n",
       "      <th>32</th>\n",
       "      <td>28_FSC</td>\n",
       "      <td>35.642069</td>\n",
       "      <td>310.958290</td>\n",
       "    </tr>\n",
       "    <tr>\n",
       "      <th>33</th>\n",
       "      <td>29_L</td>\n",
       "      <td>44.104186</td>\n",
       "      <td>639.736384</td>\n",
       "    </tr>\n",
       "    <tr>\n",
       "      <th>34</th>\n",
       "      <td>30_D</td>\n",
       "      <td>110.436453</td>\n",
       "      <td>1404.842167</td>\n",
       "    </tr>\n",
       "  </tbody>\n",
       "</table>\n",
       "</div>"
      ],
      "text/plain": [
       "   sampleid  mean_bottom     mean_top\n",
       "0      01_F   311.249739  1392.295520\n",
       "1      01_G     3.396343   582.168411\n",
       "2      02_G   397.736308  1731.960410\n",
       "3      02_H   170.019900   747.408057\n",
       "4      03_B     0.000000   444.468845\n",
       "5      03_H    27.254009   587.565365\n",
       "6      04_I   106.598958   823.814780\n",
       "7      04_N   100.662989   913.185303\n",
       "8      05_G   171.682277  1564.396521\n",
       "9      05_I    93.253766  1735.786383\n",
       "10     06_H     0.000000   446.479965\n",
       "11     07_K    19.384532   359.808771\n",
       "12     08_J    83.584589   867.896916\n",
       "13     09_E    30.943583   704.008275\n",
       "14     10_B   301.182879   983.979516\n",
       "15     11_E    21.361478   393.043605\n",
       "16     11_F    34.540586   510.067233\n",
       "17     12_M     6.127407   541.816388\n",
       "18     13_G    54.835154   593.370366\n",
       "19     14_I   116.850841   586.085223\n",
       "20     15_G   125.127117   995.310968\n",
       "21     16_B    19.892449   505.224292\n",
       "22     17_I    33.446573   520.650488\n",
       "23     18_E   244.357230  1109.159159\n",
       "24     19_F   111.672424   706.531658\n",
       "25     21_I    65.956185  1035.201653\n",
       "26     22_N    36.998823   416.978477\n",
       "27     23_B   130.672872   777.706521\n",
       "28     24_I    13.855006   535.856724\n",
       "29     25_M   413.739112  1996.805293\n",
       "30     26_I    30.062764   683.531245\n",
       "31     27_H   358.043269  1010.542501\n",
       "32   28_FSC    35.642069   310.958290\n",
       "33     29_L    44.104186   639.736384\n",
       "34     30_D   110.436453  1404.842167"
      ]
     },
     "execution_count": 3,
     "metadata": {},
     "output_type": "execute_result"
    }
   ],
   "source": [
    "sampleid_list = []\n",
    "min_list = []\n",
    "max_list = []\n",
    "for sampleid in sampleids:\n",
    "    spatdat = SpatDat(sampleid=sampleid, parent_filepath=parent_filepath)\n",
    "    spatdat.compute_fields(width_microns=300)\n",
    "\n",
    "    hpfs = spatdat.hpfs.sort_values(\"density\").reset_index(drop=True)\n",
    "    min_hpf = hpfs.iloc[:len(hpfs) // 3][\"density\"].mean()\n",
    "    max_hpf = hpfs.iloc[-len(hpfs) // 3:][\"density\"].mean()\n",
    "\n",
    "    sampleid_list.append(sampleid)\n",
    "    min_list.append(min_hpf)\n",
    "    max_list.append(max_hpf)\n",
    "\n",
    "results = pd.DataFrame({\"sampleid\": sampleid_list, \"mean_bottom\": min_list, \"mean_top\": max_list})\n",
    "results"
   ]
  },
  {
   "cell_type": "code",
   "execution_count": 22,
   "metadata": {},
   "outputs": [
    {
     "data": {
      "text/plain": [
       "<matplotlib.legend.Legend at 0x1e83d5aa810>"
      ]
     },
     "execution_count": 22,
     "metadata": {},
     "output_type": "execute_result"
    },
    {
     "data": {
      "image/png": "[encoded data removed]",
      "text/plain": [
       "<Figure size 640x480 with 1 Axes>"
      ]
     },
     "metadata": {},
     "output_type": "display_data"
    }
   ],
   "source": [
    "plt.scatter(results[\"mean_bottom\"], results[\"mean_top\"])\n",
    "plt.xlabel(\"Bottom Tertile Mean\")\n",
    "plt.ylabel(\"Top Tertile Mean\")\n",
    "\n",
    "slope, intercept, r_value, p_value, std_err = stats.linregress(results[\"mean_bottom\"], results[\"mean_top\"])\n",
    "\n",
    "plt.gca().axline((0, intercept), slope=slope, color=\"gainsboro\", linestyle=\"--\", zorder=0, label=f\"R: {round(r_value, 3)}\")\n",
    "plt.gca().legend()\n"
   ]
  }
 ],
 "metadata": {
  "kernelspec": {
   "display_name": "Python 3",
   "language": "python",
   "name": "python3"
  },
  "language_info": {
   "codemirror_mode": {
    "name": "ipython",
    "version": 3
   },
   "file_extension": ".py",
   "mimetype": "text/x-python",
   "name": "python",
   "nbconvert_exporter": "python",
   "pygments_lexer": "ipython3",
   "version": "3.11.9"
  }
 },
 "nbformat": 4,
 "nbformat_minor": 2
}
