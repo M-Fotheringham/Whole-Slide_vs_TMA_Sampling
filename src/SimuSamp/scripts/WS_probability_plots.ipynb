{
 "cells": [
  {
   "cell_type": "code",
   "execution_count": null,
   "metadata": {},
   "outputs": [],
   "source": [
    "from SimuSamp.functions.load.SpatDat import SpatDat\n",
    "import pandas as pd\n",
    "import matplotlib.pyplot as plt\n",
    "import numpy as np\n",
    "#\n",
    "from statsmodels.nonparametric.smoothers_lowess import lowess"
   ]
  },
  {
   "cell_type": "markdown",
   "metadata": {},
   "source": [
    "# Plot CD8 Probability Distribution Relative to Tumour Boundary"
   ]
  },
  {
   "cell_type": "code",
   "execution_count": null,
   "metadata": {},
   "outputs": [],
   "source": [
    "parent_filepath = \"../../../../Simulated WS Sampling/block_data\"\n",
    "\n",
    "sampleids = [\"01_F\", \"01_G\", \"02_G\", \"02_H\", \"03_B\", \"03_H\", \"04_I\", \"04_N\", \"05_G\", \"05_I\", \"06_H\", \"07_K\", \"08_J\", \"09_E\", \"10_B\", \"11_E\", \"11_F\", \"12_M\", \"13_G\", \"14_I\", \"15_G\", \"16_B\", \"17_I\", \"18_E\", \"19_F\", \"21_I\", \"22_N\", \"23_B\", \"24_I\", \"25_M\", \"26_I\", \"27_H\", \"28_FSC\", \"29_L\", \"30_D\"]\n",
    "\n",
    "microns_per_pixel = 0.22715\n",
    "mm2_per_pixels2 = (microns_per_pixel / 1000) ** 2\n",
    "\n",
    "font_dict = {\"fontsize\": 12, \"fontweight\": \"bold\", \"fontname\": \"Arial\"}"
   ]
  },
  {
   "cell_type": "markdown",
   "metadata": {},
   "source": [
    "## Functions"
   ]
  },
  {
   "cell_type": "code",
   "execution_count": 3,
   "metadata": {},
   "outputs": [],
   "source": [
    "def get_tdist(gdf, tum_hull):\n",
    "    gdf[\"tdist\"] = gdf.geometry.distance(tum_hull)\n",
    "    gdf[\"tdist_abs\"] = gdf.geometry.distance(tum_hull.boundary)\n",
    "\n",
    "    inside_mask = gdf[\"tdist\"] == 0\n",
    "\n",
    "    gdf.loc[inside_mask, \"tdist\"] = -gdf.loc[inside_mask, \"tdist_abs\"]\n",
    "\n",
    "    gdf = gdf.drop(\"tdist_abs\", axis=1)\n",
    "\n",
    "    gdf = gdf.sort_values(\"tdist\").reset_index(drop=True)\n",
    "\n",
    "    gdf[\"tdist_microns\"] = gdf[\"tdist\"] * microns_per_pixel\n",
    "    \n",
    "    width = 50\n",
    "    gdf[\"tdist_bin\"] = [(x // width) * width for x in gdf[\"tdist_microns\"]]\n",
    "\n",
    "    return gdf"
   ]
  },
  {
   "cell_type": "code",
   "execution_count": null,
   "metadata": {},
   "outputs": [],
   "source": [
    "def prob_hist(spatdat, mm2_per_pixels2=(0.22715 / 1000) ** 2):\n",
    "\n",
    "    all_cells = spatdat.subset_cells(\"extended_partition\")\n",
    "\n",
    "    tum_hull = spatdat.subset_annotation(\"tumour_hull\")\n",
    "\n",
    "    partition = spatdat.subset_annotation(\"extended_partition\")\n",
    "    n_cells = len(all_cells)\n",
    "\n",
    "    den = n_cells / (partition.area * mm2_per_pixels2)\n",
    "\n",
    "    rand = spatdat.poisson_distribution(\"extended_partition\")\n",
    "\n",
    "    rand_dist = get_tdist(rand, tum_hull)\n",
    "\n",
    "    areas = rand_dist[\"tdist_bin\"].value_counts() / den\n",
    "    rand_dist[\"area\"] = rand_dist[\"tdist_bin\"].map(areas)\n",
    "\n",
    "    cell_dist = get_tdist(all_cells, tum_hull)\n",
    "\n",
    "\n",
    "    # Merge areas and cell counts\n",
    "    cell_counts = cell_dist[\"tdist_bin\"].value_counts().reset_index()\n",
    "    cell_counts = cell_counts.merge(rand_dist[[\"tdist_bin\", \"area\"]], on=\"tdist_bin\", how=\"left\")\n",
    "    cell_counts = cell_counts.drop_duplicates().reset_index(drop=True)\n",
    "\n",
    "    cell_counts[\"den\"] = (cell_counts[\"count\"]) / (cell_counts[\"area\"])\n",
    "\n",
    "    cell_counts[\"prob\"] = (cell_counts[\"count\"] / cell_counts[\"count\"].sum()) / (cell_counts[\"area\"] / cell_counts[\"area\"].sum())\n",
    "\n",
    "    # Normalize probabilities\n",
    "    cell_counts[\"prob\"] = cell_counts[\"prob\"] / cell_counts[\"prob\"].sum()\n",
    "\n",
    "    # Smooth Probabilities\n",
    "    lowess_result = lowess(cell_counts[\"prob\"], cell_counts[\"tdist_bin\"], frac=0.2)\n",
    "\n",
    "    cell_counts[\"smoothed_prob\"] = np.interp(cell_counts[\"tdist_bin\"], lowess_result[:, 0], lowess_result[:, 1])\n",
    "\n",
    "    cell_counts = cell_counts.sort_values(\"tdist_bin\").reset_index(drop=True)\n",
    "\n",
    "    return cell_counts"
   ]
  },
  {
   "cell_type": "markdown",
   "metadata": {},
   "source": [
    "## Get Probability Histogram for Each Specimen"
   ]
  },
  {
   "cell_type": "code",
   "execution_count": null,
   "metadata": {},
   "outputs": [
    {
     "data": {
      "text/plain": [
       "<Figure size 640x480 with 0 Axes>"
      ]
     },
     "metadata": {},
     "output_type": "display_data"
    }
   ],
   "source": [
    "hist_list = []\n",
    "for sampleid in sampleids:\n",
    "    spatdat = SpatDat(sampleid=sampleid, parent_filepath=parent_filepath)\n",
    "\n",
    "    hist = prob_hist(spatdat)\n",
    "\n",
    "    hist[\"sampleid\"] = sampleid\n",
    "\n",
    "    # Exclude bins with low area\n",
    "    hist = hist[hist[\"area\"] > 0.1]\n",
    "\n",
    "    hist_list.append(hist)\n",
    "\n",
    "    plt.plot(hist[\"tdist_bin\"], hist[\"smoothed_prob\"])\n",
    "    plt.xlabel(\"Distance Within (-) or Beyond (+) Tumour Border\", fontdict=font_dict)\n",
    "    plt.ylabel(\"Probability\", fontdict=font_dict)\n",
    "\n",
    "    plt.yticks(fontname=\"Arial\", fontweight=\"bold\")\n",
    "\n",
    "    xticks = np.arange((min(hist[\"tdist_bin\"]) // 1000) * 1000, ((max(hist[\"tdist_bin\"]) + 2000) // 1000) * 1000, 1000)\n",
    "    \n",
    "    plt.xticks(xticks, labels=[f\"{int(tick)} \\u00B5m\" for tick in xticks], fontname=\"Arial\", fontweight=\"bold\")\n",
    "    \n",
    "    plt.gca().tick_params(width=2)\n",
    "\n",
    "    plt.gca().spines[\"left\"].set_linewidth(2)\n",
    "    plt.gca().spines[\"bottom\"].set_linewidth(2)\n",
    "\n",
    "    plt.gca().spines['top'].set_visible(False)\n",
    "    plt.gca().spines['right'].set_visible(False)\n",
    "\n",
    "    plt.axvline(0, color=\"red\", linewidth=2)\n",
    "\n",
    "    plt.savefig(f\"../../../../Data/Plots/ProbHist/{sampleid}_prob_hist_smoothed.png\", dpi=600)\n",
    "\n",
    "    plt.cla()\n",
    "    plt.clf()\n",
    "\n",
    "    plt.plot(hist[\"tdist_bin\"], hist[\"den\"])\n",
    "    plt.xlabel(\"Distance Within (-) or Beyond (+) Tumour Border\", fontdict=font_dict)\n",
    "    plt.ylabel(\"Density (cells/mm\\u00b2)\", fontdict=font_dict)\n",
    "\n",
    "    plt.yticks(fontname=\"Arial\", fontweight=\"bold\")\n",
    "    \n",
    "    xticks = np.arange((min(hist[\"tdist_bin\"]) // 1000) * 1000, ((max(hist[\"tdist_bin\"]) + 2000) // 1000) * 1000, 1000)\n",
    "    \n",
    "    plt.xticks(xticks, labels=[f\"{int(tick)} \\u00B5m\" for tick in xticks], fontname=\"Arial\", fontweight=\"bold\")\n",
    "\n",
    "    plt.gca().spines[\"left\"].set_linewidth(2)\n",
    "    plt.gca().spines[\"bottom\"].set_linewidth(2)\n",
    "\n",
    "    plt.gca().spines['top'].set_visible(False)\n",
    "    plt.gca().spines['right'].set_visible(False)\n",
    "\n",
    "    plt.axvline(0, color=\"red\", linewidth=2)\n",
    "\n",
    "    plt.savefig(f\"../../../../Data/Plots/DenHist/{sampleid}_den_hist.png\", dpi=600)\n",
    "\n",
    "    plt.cla()\n",
    "    plt.clf()\n",
    "\n",
    "cohort_hist = pd.concat(hist_list)\n",
    "cohort_hist.to_excel(\"../../../../Data/cohort_hist_data.xlsx\", index=False)"
   ]
  },
  {
   "cell_type": "markdown",
   "metadata": {},
   "source": [
    "# Get Probability Distribution for Overall Cohort"
   ]
  },
  {
   "cell_type": "code",
   "execution_count": 60,
   "metadata": {},
   "outputs": [],
   "source": [
    "# Overall Cohort\n",
    "cohort_hist = pd.read_excel(\"../../../../Data/cohort_hist_data.xlsx\")\n",
    "\n",
    "cohort_total = cohort_hist.groupby(\"tdist_bin\").sum()[[\"count\", \"area\"]].reset_index()\n",
    "cohort_total[\"den\"] = cohort_total[\"count\"] / cohort_total[\"area\"]\n",
    "cohort_total[\"prob\"] = cohort_total[\"count\"] / cohort_total[\"count\"].sum() / (cohort_total[\"area\"] / cohort_total[\"area\"].sum())\n",
    "cohort_total[\"prob\"] = cohort_total[\"prob\"] / cohort_total[\"prob\"].sum()\n",
    "\n",
    "lowess_result = lowess(cohort_total[\"prob\"], cohort_total[\"tdist_bin\"], frac=0.2)\n",
    "cohort_total[\"smoothed_prob\"] = np.interp(cohort_total[\"tdist_bin\"], lowess_result[:, 0], lowess_result[:, 1])"
   ]
  },
  {
   "cell_type": "code",
   "execution_count": 62,
   "metadata": {},
   "outputs": [
    {
     "data": {
      "text/plain": [
       "<matplotlib.lines.Line2D at 0x1e239b969d0>"
      ]
     },
     "execution_count": 62,
     "metadata": {},
     "output_type": "execute_result"
    },
    {
     "data": {
      "image/png": "[encoded data removed]",
      "text/plain": [
       "<Figure size 640x480 with 1 Axes>"
      ]
     },
     "metadata": {},
     "output_type": "display_data"
    }
   ],
   "source": [
    "intratum_mean = cohort_total[cohort_total[\"tdist_bin\"] < 0][\"den\"].mean()\n",
    "intratum_std = cohort_total[cohort_total[\"tdist_bin\"] < 0][\"den\"].std()\n",
    "\n",
    "plt.bar(cohort_total[\"tdist_bin\"], cohort_total[\"den\"], width=50, edgecolor=\"black\", align=\"edge\")\n",
    "plt.xlabel(\"Distance Within (-) or Beyond (+) Tumour Border\", fontdict=font_dict)\n",
    "plt.ylabel(\"Density (cells/mm\\u00b2)\", fontdict=font_dict)\n",
    "\n",
    "plt.yticks(fontname=\"Arial\", fontweight=\"bold\")\n",
    "\n",
    "xticks = np.arange((min(cohort_total[\"tdist_bin\"]) // 500) * 500, ((max(cohort_total[\"tdist_bin\"]) + 1000) // 500) * 500, 500)\n",
    "\n",
    "plt.xticks(xticks, labels=[f\"{int(tick)} \\u00B5m\" for tick in xticks], fontname=\"Arial\", fontweight=\"bold\")\n",
    "\n",
    "plt.gca().xaxis.set_minor_locator(plt.MultipleLocator(50))\n",
    "plt.gca().tick_params(which=\"minor\", width=2, length=3)\n",
    "\n",
    "plt.gca().tick_params(width=2, length=5)\n",
    "\n",
    "plt.xlim(-1000, 1000)\n",
    "\n",
    "# plt.ylim(-2.5, 6)\n",
    "\n",
    "plt.gca().spines[\"left\"].set_linewidth(2)\n",
    "plt.gca().spines[\"bottom\"].set_linewidth(2)\n",
    "\n",
    "plt.gca().spines[\"top\"].set_visible(False)\n",
    "plt.gca().spines[\"right\"].set_visible(False)\n",
    "\n",
    "plt.axvline(0, color=\"red\", linewidth=2)\n",
    "\n",
    "# plt.savefig(f\"../../../../Data/Plots/ProbHist/total_prob_hist_cropped.png\", dpi=600)"
   ]
  }
 ],
 "metadata": {
  "kernelspec": {
   "display_name": "Python 3",
   "language": "python",
   "name": "python3"
  },
  "language_info": {
   "codemirror_mode": {
    "name": "ipython",
    "version": 3
   },
   "file_extension": ".py",
   "mimetype": "text/x-python",
   "name": "python",
   "nbconvert_exporter": "python",
   "pygments_lexer": "ipython3",
   "version": "3.11.7"
  }
 },
 "nbformat": 4,
 "nbformat_minor": 2
}
