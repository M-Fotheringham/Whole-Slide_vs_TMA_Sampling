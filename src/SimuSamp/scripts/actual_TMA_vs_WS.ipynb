{
 "cells": [
  {
   "cell_type": "code",
   "execution_count": 1,
   "metadata": {},
   "outputs": [],
   "source": [
    "import pandas as pd\n",
    "import numpy as np\n",
    "import ast\n",
    "import matplotlib.pyplot as plt\n",
    "import scipy.stats as stats"
   ]
  },
  {
   "cell_type": "markdown",
   "metadata": {},
   "source": [
    "# Load and Pre-Process Data"
   ]
  },
  {
   "cell_type": "code",
   "execution_count": 15,
   "metadata": {},
   "outputs": [],
   "source": [
    "parent_filepath = \"../../../../Simulated WS Sampling/block_data\"\n",
    "\n",
    "sampleids = [\"01_F\", \"01_G\", \"02_G\", \"02_H\", \"03_B\", \"03_H\", \"04_I\", \"04_N\", \"05_G\", \"05_I\", \"06_H\", \"07_K\", \"08_J\", \"09_E\", \"10_B\", \"11_E\", \"11_F\", \"12_M\", \"13_G\", \"14_I\", \"15_G\", \"16_B\", \"17_I\", \"18_E\", \"19_F\", \"21_I\", \"22_N\", \"23_B\", \"24_I\", \"25_M\", \"26_I\", \"27_H\", \"28_FSC\", \"29_L\", \"30_D\"]\n",
    "\n",
    "microns_per_pixel=0.22715\n",
    "mm2_per_pixels2 = (microns_per_pixel / 1000) ** 2\n",
    "\n",
    "font_dict = {\"fontsize\": 16, \"fontweight\": \"bold\", \"fontname\": \"Arial\"}"
   ]
  },
  {
   "cell_type": "code",
   "execution_count": 3,
   "metadata": {},
   "outputs": [],
   "source": [
    "# Whole-slide stats generated from wholeslide_stats.ipynb\n",
    "ws_stats = pd.read_excel(\"../../../../Data/WS_stats.xlsx\")\n",
    "\n",
    "ws_stats = ws_stats.rename(columns={\"sample\": \"sampleid\", \"annotation\": \"region\", \"density\": \"ws_density\", \"n_neighbour\": \"ws_n_neighbour\"})\n",
    "\n",
    "ws_stats = ws_stats[ws_stats[\"region\"].isin([\"tumour\", \"outer_IM\"])].reset_index(drop=True)"
   ]
  },
  {
   "cell_type": "code",
   "execution_count": 4,
   "metadata": {},
   "outputs": [],
   "source": [
    "# Requisite files available in Figshare\n",
    "# https://doi.org/10.6084/m9.figshare.28991807.v2\n",
    "\n",
    "# Get Revised TMA locations and sampleids ===========================\n",
    "tma_map = pd.read_excel(\"../../../../Data/CD8IHC_RevisedCoreMap.xlsx\")\n",
    "\n",
    "tma_map = tma_map[[\"x\", \"y\", \"PatientID\", \"BlockDesignation\", \"Revised Location\", \"Exclusion\"]]\n",
    "\n",
    "tma_map = tma_map[~tma_map[\"Exclusion\"].isin([\"LN\", \"X\"])].reset_index(drop=True)\n",
    "\n",
    "tma_map[\"(Row, Column)\"] = [xy for xy in zip(tma_map[\"x\"], tma_map[\"y\"])]\n",
    "\n",
    "tma_map = tma_map[tma_map[\"PatientID\"] != 0].reset_index(drop=True)\n",
    "\n",
    "tma_map[\"Revised Location\"] = tma_map[\"Revised Location\"].replace({\"T\": \"tumour\", \"IM\": \"outer_IM\"})\n",
    "\n",
    "tma_map[\"sampleid\"] = [f\"{sample}_{block}\" for sample, block in zip(tma_map[\"PatientID\"], tma_map[\"BlockDesignation\"])]\n",
    "\n",
    "tma_map[\"sampleid\"] = [f\"0{sampleid}\" if len(sampleid) == 3 else sampleid for sampleid in tma_map[\"sampleid\"]]\n",
    "\n",
    "tma_map = tma_map.drop(columns=[\"x\", \"y\", \"PatientID\", \"BlockDesignation\", \"Exclusion\"])\n",
    "\n",
    "tma_map_2 = pd.read_excel(\"../../../../Data/CD8IHC_RevisedCoreMap.xlsx\")\n",
    "tma_map_2 = tma_map_2[[\"x2\", \"y2\", \"Depth of Tumour- Core (mm)2\"]]\n",
    "tma_map_2 = tma_map_2.rename(columns={\"Depth of Tumour- Core (mm)2\": \"tumour_depth\"})\n",
    "tma_map_2[\"(Row, Column)\"] = [xy for xy in zip(tma_map_2[\"x2\"], tma_map_2[\"y2\"])]\n",
    "tma_map_2 = tma_map_2.drop(columns=[\"x2\", \"y2\"])\n",
    "\n",
    "tma_map = tma_map.merge(tma_map_2, on=\"(Row, Column)\", how=\"left\")\n",
    "# ====================================================================\n",
    "\n",
    "# Get TMA densities ==================================================\n",
    "tma_data = pd.read_csv(\"../../../../Data/TMA_CD8_SummaryData_MPIHC.csv\")\n",
    "tma_data = tma_data[[\"Spot Valid\", \"Case\", \"Location\", \"TMA Row\", \"TMA Column\", \"(Row, Column)\", \"CD8 Cells\", \"Tissue Area (μm²)\"]]\n",
    "\n",
    "tma_data = tma_data[tma_data[\"Spot Valid\"] == 1].reset_index(drop=True)\n",
    "\n",
    "tma_data[\"region\"] = tma_data[\"Location\"].replace({\"T\": \"tumour\", \"IM\": \"outer_IM\"})\n",
    "\n",
    "tma_data[\"Area (mm)\"] = tma_data[\"Tissue Area (μm²)\"] / 1e6\n",
    "\n",
    "tma_data[\"Density (mm)\"] = tma_data[\"CD8 Cells\"] / tma_data[\"Area (mm)\"]\n",
    "\n",
    "tma_data[\"(Row, Column)\"] = [ast.literal_eval(xy) for xy in tma_data[\"(Row, Column)\"]]\n",
    "\n",
    "tma_data = tma_data.drop(columns=[\"Case\", \"TMA Row\", \"TMA Column\", \"Spot Valid\", \"Location\", \"Tissue Area (μm²)\"])\n",
    "# ====================================================================\n",
    "\n",
    "tma_data = tma_data.merge(tma_map, on=\"(Row, Column)\", how=\"left\")\n",
    "\n",
    "tma_data = tma_data[tma_data[\"sampleid\"].isin(sampleids)].reset_index(drop=True)"
   ]
  },
  {
   "cell_type": "code",
   "execution_count": 5,
   "metadata": {},
   "outputs": [
    {
     "data": {
      "text/html": [
       "<div>\n",
       "<style scoped>\n",
       "    .dataframe tbody tr th:only-of-type {\n",
       "        vertical-align: middle;\n",
       "    }\n",
       "\n",
       "    .dataframe tbody tr th {\n",
       "        vertical-align: top;\n",
       "    }\n",
       "\n",
       "    .dataframe thead th {\n",
       "        text-align: right;\n",
       "    }\n",
       "</style>\n",
       "<table border=\"1\" class=\"dataframe\">\n",
       "  <thead>\n",
       "    <tr style=\"text-align: right;\">\n",
       "      <th></th>\n",
       "      <th>(Row, Column)</th>\n",
       "      <th>CD8 Cells</th>\n",
       "      <th>region</th>\n",
       "      <th>Area (mm)</th>\n",
       "      <th>Density (mm)</th>\n",
       "      <th>Revised Location</th>\n",
       "      <th>sampleid</th>\n",
       "      <th>tumour_depth</th>\n",
       "    </tr>\n",
       "  </thead>\n",
       "  <tbody>\n",
       "    <tr>\n",
       "      <th>0</th>\n",
       "      <td>(1, 1)</td>\n",
       "      <td>216.0</td>\n",
       "      <td>tumour</td>\n",
       "      <td>0.781910</td>\n",
       "      <td>276.246516</td>\n",
       "      <td>tumour</td>\n",
       "      <td>04_I</td>\n",
       "      <td>NaN</td>\n",
       "    </tr>\n",
       "    <tr>\n",
       "      <th>1</th>\n",
       "      <td>(1, 2)</td>\n",
       "      <td>157.0</td>\n",
       "      <td>tumour</td>\n",
       "      <td>0.873067</td>\n",
       "      <td>179.825729</td>\n",
       "      <td>tumour</td>\n",
       "      <td>04_I</td>\n",
       "      <td>NaN</td>\n",
       "    </tr>\n",
       "    <tr>\n",
       "      <th>2</th>\n",
       "      <td>(1, 3)</td>\n",
       "      <td>232.0</td>\n",
       "      <td>tumour</td>\n",
       "      <td>1.141093</td>\n",
       "      <td>203.313929</td>\n",
       "      <td>tumour</td>\n",
       "      <td>04_I</td>\n",
       "      <td>NaN</td>\n",
       "    </tr>\n",
       "    <tr>\n",
       "      <th>3</th>\n",
       "      <td>(1, 4)</td>\n",
       "      <td>1146.0</td>\n",
       "      <td>outer_IM</td>\n",
       "      <td>1.019212</td>\n",
       "      <td>1124.398546</td>\n",
       "      <td>outer_IM</td>\n",
       "      <td>04_I</td>\n",
       "      <td>0.651</td>\n",
       "    </tr>\n",
       "    <tr>\n",
       "      <th>4</th>\n",
       "      <td>(2, 1)</td>\n",
       "      <td>117.0</td>\n",
       "      <td>tumour</td>\n",
       "      <td>0.943557</td>\n",
       "      <td>123.998909</td>\n",
       "      <td>tumour</td>\n",
       "      <td>06_H</td>\n",
       "      <td>NaN</td>\n",
       "    </tr>\n",
       "    <tr>\n",
       "      <th>...</th>\n",
       "      <td>...</td>\n",
       "      <td>...</td>\n",
       "      <td>...</td>\n",
       "      <td>...</td>\n",
       "      <td>...</td>\n",
       "      <td>...</td>\n",
       "      <td>...</td>\n",
       "      <td>...</td>\n",
       "    </tr>\n",
       "    <tr>\n",
       "      <th>155</th>\n",
       "      <td>(13, 11)</td>\n",
       "      <td>1019.0</td>\n",
       "      <td>outer_IM</td>\n",
       "      <td>1.195227</td>\n",
       "      <td>852.557626</td>\n",
       "      <td>tumour</td>\n",
       "      <td>01_F</td>\n",
       "      <td>NaN</td>\n",
       "    </tr>\n",
       "    <tr>\n",
       "      <th>156</th>\n",
       "      <td>(13, 12)</td>\n",
       "      <td>152.0</td>\n",
       "      <td>outer_IM</td>\n",
       "      <td>0.194482</td>\n",
       "      <td>781.564274</td>\n",
       "      <td>outer_IM</td>\n",
       "      <td>01_F</td>\n",
       "      <td>NaN</td>\n",
       "    </tr>\n",
       "    <tr>\n",
       "      <th>157</th>\n",
       "      <td>(13, 13)</td>\n",
       "      <td>746.0</td>\n",
       "      <td>tumour</td>\n",
       "      <td>1.295595</td>\n",
       "      <td>575.797276</td>\n",
       "      <td>outer_IM</td>\n",
       "      <td>01_G</td>\n",
       "      <td>0.519</td>\n",
       "    </tr>\n",
       "    <tr>\n",
       "      <th>158</th>\n",
       "      <td>(13, 14)</td>\n",
       "      <td>176.0</td>\n",
       "      <td>tumour</td>\n",
       "      <td>0.539882</td>\n",
       "      <td>325.997125</td>\n",
       "      <td>outer_IM</td>\n",
       "      <td>01_G</td>\n",
       "      <td>NaN</td>\n",
       "    </tr>\n",
       "    <tr>\n",
       "      <th>159</th>\n",
       "      <td>(13, 15)</td>\n",
       "      <td>1173.0</td>\n",
       "      <td>outer_IM</td>\n",
       "      <td>1.223027</td>\n",
       "      <td>959.095458</td>\n",
       "      <td>outer_IM</td>\n",
       "      <td>01_G</td>\n",
       "      <td>0.626</td>\n",
       "    </tr>\n",
       "  </tbody>\n",
       "</table>\n",
       "<p>160 rows × 8 columns</p>\n",
       "</div>"
      ],
      "text/plain": [
       "    (Row, Column)  CD8 Cells    region  Area (mm)  Density (mm)  \\\n",
       "0          (1, 1)      216.0    tumour   0.781910    276.246516   \n",
       "1          (1, 2)      157.0    tumour   0.873067    179.825729   \n",
       "2          (1, 3)      232.0    tumour   1.141093    203.313929   \n",
       "3          (1, 4)     1146.0  outer_IM   1.019212   1124.398546   \n",
       "4          (2, 1)      117.0    tumour   0.943557    123.998909   \n",
       "..            ...        ...       ...        ...           ...   \n",
       "155      (13, 11)     1019.0  outer_IM   1.195227    852.557626   \n",
       "156      (13, 12)      152.0  outer_IM   0.194482    781.564274   \n",
       "157      (13, 13)      746.0    tumour   1.295595    575.797276   \n",
       "158      (13, 14)      176.0    tumour   0.539882    325.997125   \n",
       "159      (13, 15)     1173.0  outer_IM   1.223027    959.095458   \n",
       "\n",
       "    Revised Location sampleid  tumour_depth  \n",
       "0             tumour     04_I           NaN  \n",
       "1             tumour     04_I           NaN  \n",
       "2             tumour     04_I           NaN  \n",
       "3           outer_IM     04_I         0.651  \n",
       "4             tumour     06_H           NaN  \n",
       "..               ...      ...           ...  \n",
       "155           tumour     01_F           NaN  \n",
       "156         outer_IM     01_F           NaN  \n",
       "157         outer_IM     01_G         0.519  \n",
       "158         outer_IM     01_G           NaN  \n",
       "159         outer_IM     01_G         0.626  \n",
       "\n",
       "[160 rows x 8 columns]"
      ]
     },
     "execution_count": 5,
     "metadata": {},
     "output_type": "execute_result"
    }
   ],
   "source": [
    "# Excluded cores have no tumour_depth\n",
    "tma_data"
   ]
  },
  {
   "cell_type": "code",
   "execution_count": 6,
   "metadata": {},
   "outputs": [],
   "source": [
    "tma_tum = tma_data[tma_data[\"Revised Location\"] == \"tumour\"].reset_index(drop=True)\n",
    "tma_im = tma_data[tma_data[\"Revised Location\"] == \"outer_IM\"].reset_index(drop=True)"
   ]
  },
  {
   "cell_type": "code",
   "execution_count": 7,
   "metadata": {},
   "outputs": [],
   "source": [
    "ws_tum = ws_stats[ws_stats[\"region\"] == \"tumour\"].reset_index(drop=True)\n",
    "ws_im = ws_stats[ws_stats[\"region\"] == \"outer_IM\"].reset_index(drop=True)"
   ]
  },
  {
   "cell_type": "markdown",
   "metadata": {},
   "source": [
    "## IM vs CT Boxplots"
   ]
  },
  {
   "cell_type": "code",
   "execution_count": 8,
   "metadata": {},
   "outputs": [],
   "source": [
    "ws_p = stats.wilcoxon(ws_im[\"ws_density\"], ws_tum[\"ws_density\"]).pvalue\n",
    "tma_p = stats.mannwhitneyu(tma_im[\"Density (mm)\"], tma_tum[\"Density (mm)\"]).pvalue"
   ]
  },
  {
   "cell_type": "code",
   "execution_count": 16,
   "metadata": {},
   "outputs": [
    {
     "data": {
      "image/png": "[encoded data removed]",
      "text/plain": [
       "<Figure size 600x500 with 1 Axes>"
      ]
     },
     "metadata": {},
     "output_type": "display_data"
    }
   ],
   "source": [
    "plt.subplots(figsize=(6, 5));\n",
    "\n",
    "positions = [1, 2, 3.5, 4.5]\n",
    "\n",
    "plt.boxplot([ws_im[\"ws_density\"], ws_tum[\"ws_density\"], tma_im[\"Density (mm)\"], tma_tum[\"Density (mm)\"]], tick_labels=[\"IM\", \"CT\", \"IM\", \"CT\"], positions=positions, widths=0.75, flierprops={\"marker\": \"o\", \"markerfacecolor\": \"black\", \"markersize\": 4}, medianprops={\"color\": \"black\", \"linewidth\": 1.5}, boxprops={\"color\": \"black\", \"linewidth\": 1.5}, whiskerprops={\"color\": \"black\", \"linewidth\": 1.5}, capprops={\"color\": \"black\", \"linewidth\": 1.5});\n",
    "\n",
    "x_max = 5.5\n",
    "x_min = 0.0\n",
    "plt.xlim(x_min, x_max)\n",
    "\n",
    "y_min = 0.0\n",
    "y_max = 2500\n",
    "plt.ylim(y_min, y_max)\n",
    "\n",
    "wsmin, wsmax, tmamin, tmamax = [(x - x_min) / (x_max - x_min) for x in positions]\n",
    "\n",
    "plt.axhline(y=ws_stats[\"ws_density\"].max() + 0.025 * y_max, color=\"black\", linewidth=1.5, xmin=wsmin, xmax=wsmax)\n",
    "plt.text(x=1.5, y=ws_stats[\"ws_density\"].max() + 0.06 * y_max, s=f\"p={ws_p:.2e}\", ha=\"center\", va=\"center\", fontdict=font_dict)\n",
    "\n",
    "plt.axhline(y=tma_data.sort_values(\"Density (mm)\").reset_index(drop=True)[\"Density (mm)\"].iloc[-1] + 0.025 * y_max, color=\"black\", linewidth=1.5, xmin=tmamin, xmax=tmamax)\n",
    "plt.text(x=4, y=tma_data.sort_values(\"Density (mm)\").reset_index(drop=True)[\"Density (mm)\"].iloc[-1] + 0.06 * y_max, s=f\"p={tma_p:.2e}\", ha=\"center\", va=\"center\", fontdict=font_dict)\n",
    "\n",
    "plt.ylabel(\"CD8 Density (cells/mm\\u00b2)\", fontdict=font_dict)\n",
    "\n",
    "plt.yticks(fontsize=16, fontname=\"Arial\", fontweight=\"bold\")\n",
    "plt.xticks(fontsize=16, fontname=\"Arial\", fontweight=\"bold\")\n",
    "\n",
    "plt.gca().set_yticks(np.arange(0, 2550, 50), minor=True)\n",
    "\n",
    "plt.gca().tick_params(axis=\"y\", which=\"major\", length=4, width=1.75)\n",
    "plt.gca().tick_params(axis=\"y\", which=\"minor\", length=2, width=1.75)\n",
    "\n",
    "plt.gca().spines[\"top\"].set_visible(False)\n",
    "plt.gca().spines[\"right\"].set_visible(False)\n",
    "\n",
    "plt.gca().spines[\"left\"].set_linewidth(1.75)\n",
    "plt.gca().spines[\"bottom\"].set_linewidth(1.75)\n",
    "\n",
    "plt.savefig(\"../../../../Data/Plots/Density/IM_vs_CT_CD8_density.png\", dpi=300, bbox_inches=\"tight\", transparent=True)"
   ]
  },
  {
   "cell_type": "markdown",
   "metadata": {},
   "source": [
    "## TMA vs WS Boxplots"
   ]
  },
  {
   "cell_type": "code",
   "execution_count": 12,
   "metadata": {},
   "outputs": [
    {
     "name": "stdout",
     "output_type": "stream",
     "text": [
      "Depth of tumour core with 80% area: 0.896 mm\n"
     ]
    }
   ],
   "source": [
    "# Brute force method to find depth of tumour core with 80% area\n",
    "core_area = (0.6 ** 2) * np.pi\n",
    "core_area_80 = core_area * 0.8\n",
    "\n",
    "depth = 0.0\n",
    "segment_area = 0.0\n",
    "\n",
    "while segment_area < core_area_80:\n",
    "    depth += 0.001\n",
    "    segment_area = (0.6 ** 2) * (np.arccos((0.6 - depth) / 0.6)) - (0.6 - depth) * (2 * 0.6 * depth - depth ** 2) ** 0.5\n",
    "\n",
    "print(f\"Depth of tumour core with 80% area: {round(depth, 4)} mm\")"
   ]
  },
  {
   "cell_type": "code",
   "execution_count": 13,
   "metadata": {},
   "outputs": [],
   "source": [
    "tma_im = tma_im[(tma_im[\"tumour_depth\"] >= 0.0) & (tma_im[\"tumour_depth\"] <= depth)].reset_index(drop=True)"
   ]
  },
  {
   "cell_type": "code",
   "execution_count": 14,
   "metadata": {},
   "outputs": [],
   "source": [
    "im_p = stats.mannwhitneyu(ws_im[\"ws_density\"], tma_im[\"Density (mm)\"]).pvalue\n",
    "ct_p = stats.mannwhitneyu(ws_tum[\"ws_density\"], tma_tum[\"Density (mm)\"]).pvalue"
   ]
  },
  {
   "cell_type": "code",
   "execution_count": 15,
   "metadata": {},
   "outputs": [
    {
     "data": {
      "text/plain": [
       "(0.8525639730669545, 0.9519225528580172)"
      ]
     },
     "execution_count": 15,
     "metadata": {},
     "output_type": "execute_result"
    }
   ],
   "source": [
    "im_p, ct_p"
   ]
  },
  {
   "cell_type": "code",
   "execution_count": 11,
   "metadata": {},
   "outputs": [],
   "source": [
    "font_dict = {\"fontsize\": 16, \"fontweight\": \"bold\", \"fontname\": \"Arial\"}"
   ]
  },
  {
   "cell_type": "code",
   "execution_count": 13,
   "metadata": {},
   "outputs": [
    {
     "data": {
      "image/png": "[encoded data removed]",
      "text/plain": [
       "<Figure size 600x500 with 1 Axes>"
      ]
     },
     "metadata": {},
     "output_type": "display_data"
    }
   ],
   "source": [
    "plt.subplots(figsize=(6, 5));\n",
    "\n",
    "positions = [1, 2, 3.5, 4.5]\n",
    "\n",
    "plt.boxplot([ws_im[\"ws_density\"], tma_im[\"Density (mm)\"], ws_tum[\"ws_density\"], tma_tum[\"Density (mm)\"]], tick_labels=[\"WS\", \"TMA\", \"WS\", \"TMA\"], positions=positions, widths=0.75, flierprops={\"marker\": \"o\", \"markerfacecolor\": \"black\", \"markersize\": 4}, medianprops={\"color\": \"black\", \"linewidth\": 1.5}, boxprops={\"color\": \"black\", \"linewidth\": 1.5}, whiskerprops={\"color\": \"black\", \"linewidth\": 1.5}, capprops={\"color\": \"black\", \"linewidth\": 1.5});\n",
    "\n",
    "x_max = 5.5\n",
    "x_min = 0.0\n",
    "plt.xlim(x_min, x_max)\n",
    "\n",
    "y_min = 0.0\n",
    "y_max = 2000\n",
    "plt.ylim(y_min, y_max)\n",
    "\n",
    "wsmin, wsmax, tmamin, tmamax = [(x - x_min) / (x_max - x_min) for x in positions]\n",
    "\n",
    "plt.axhline(y=max(ws_im[\"ws_density\"].max(), tma_im[\"Density (mm)\"].max()) + 0.025 * y_max, color=\"black\", linewidth=1.5, xmin=wsmin, xmax=wsmax)\n",
    "plt.text(x=1.5, y=max(ws_im[\"ws_density\"].max(), tma_im[\"Density (mm)\"].max()) + 0.06 * y_max, s=f\"p={im_p:.2e}\", ha=\"center\", va=\"center\", fontdict=font_dict)\n",
    "\n",
    "plt.axhline(y=max(ws_tum[\"ws_density\"].max(), tma_tum[\"Density (mm)\"].max()) + 0.025 * y_max, color=\"black\", linewidth=1.5, xmin=tmamin, xmax=tmamax)\n",
    "plt.text(x=4, y=max(ws_tum[\"ws_density\"].max(), tma_tum[\"Density (mm)\"].max()) + 0.06 * y_max, s=f\"p={ct_p:.2e}\", ha=\"center\", va=\"center\", fontdict=font_dict)\n",
    "\n",
    "plt.ylabel(\"CD8 Density (cells/mm\\u00b2)\", fontdict=font_dict)\n",
    "\n",
    "plt.yticks(np.arange(0, 2500, 500), fontsize=16, fontname=\"Arial\", fontweight=\"bold\")\n",
    "plt.xticks(fontsize=16, fontname=\"Arial\", fontweight=\"bold\")\n",
    "\n",
    "plt.gca().set_yticks(np.arange(0, 2050, 50), minor=True)\n",
    "\n",
    "plt.gca().tick_params(axis=\"y\", which=\"major\", length=4, width=1.75)\n",
    "plt.gca().tick_params(axis=\"y\", which=\"minor\", length=2, width=1.75)\n",
    "\n",
    "plt.gca().spines[\"top\"].set_visible(False)\n",
    "plt.gca().spines[\"right\"].set_visible(False)\n",
    "\n",
    "plt.gca().spines[\"left\"].set_linewidth(1.75)\n",
    "plt.gca().spines[\"bottom\"].set_linewidth(1.75)\n",
    "\n",
    "plt.savefig(\"../../../../Data/Plots/Density/WS_vs_TMA_CD8_density.png\", dpi=300, bbox_inches=\"tight\", transparent=True)"
   ]
  }
 ],
 "metadata": {
  "kernelspec": {
   "display_name": "astro",
   "language": "python",
   "name": "python3"
  },
  "language_info": {
   "codemirror_mode": {
    "name": "ipython",
    "version": 3
   },
   "file_extension": ".py",
   "mimetype": "text/x-python",
   "name": "python",
   "nbconvert_exporter": "python",
   "pygments_lexer": "ipython3",
   "version": "3.10.16"
  }
 },
 "nbformat": 4,
 "nbformat_minor": 2
}
